{
 "cells": [
  {
   "cell_type": "code",
   "execution_count": 285,
   "metadata": {},
   "outputs": [],
   "source": [
    "import matplotlib.pyplot as plt\n",
    "import pandas as pd\n",
    "import numpy as np\n",
    "#from jupyterthemes import jtplot\n",
    "from sklearn.metrics import auc, roc_curve, roc_auc_score\n",
    "%matplotlib inline\n",
    "#jtplot.style()\n",
    "import warnings\n",
    "warnings.filterwarnings('ignore')\n",
    "pd.set_option('display.max_columns', None) # display all columns\n",
    "#pd.set_option('display.max_rows', None) # display all columns\n",
    "\n",
    "import math\n",
    "import gc\n",
    "import os\n",
    "import logging\n",
    "import datetime\n",
    "import warnings\n",
    "import numpy as np\n",
    "import pandas as pd\n",
    "import seaborn as sns\n",
    "#import lightgbm as lgb\n",
    "from tqdm import tqdm_notebook\n",
    "import matplotlib.pyplot as plt\n",
    "from sklearn.metrics import mean_squared_error\n",
    "from sklearn.metrics import roc_auc_score, roc_curve\n",
    "from sklearn.model_selection import StratifiedKFold\n",
    "warnings.filterwarnings('ignore')\n",
    "\n",
    "from sklearn.model_selection import train_test_split\n",
    "from sklearn.preprocessing import normalize\n",
    "from sklearn.preprocessing import StandardScaler\n",
    "import xgboost\n",
    "from sklearn.preprocessing import MinMaxScaler\n",
    "from sklearn import metrics\n",
    "from sklearn.model_selection import cross_val_score\n",
    "from tqdm import tqdm\n",
    "from sklearn.feature_selection import RFECV\n",
    "from sklearn.decomposition import PCA, KernelPCA\n",
    "from sklearn.neighbors import KNeighborsClassifier\n",
    "from sklearn.tree import DecisionTreeClassifier\n",
    "from sklearn.ensemble import RandomForestClassifier"
   ]
  },
  {
   "cell_type": "code",
   "execution_count": 2,
   "metadata": {
    "scrolled": false
   },
   "outputs": [
    {
     "name": "stdout",
     "output_type": "stream",
     "text": [
      " test.csv    train_df_mean     Untitled4.ipynb\t'Тестовое задание.docx'\r\n",
      " test_df     Untitled1.ipynb   Untitled.ipynb\r\n",
      " train.csv   Untitled2.ipynb   X_train_mean\r\n",
      " train_df    Untitled3.ipynb   y_train.csv\r\n"
     ]
    }
   ],
   "source": [
    "!ls"
   ]
  },
  {
   "cell_type": "code",
   "execution_count": 3,
   "metadata": {},
   "outputs": [],
   "source": [
    "train_df=pd.read_csv('train.csv')"
   ]
  },
  {
   "cell_type": "code",
   "execution_count": 5,
   "metadata": {},
   "outputs": [],
   "source": [
    "test_df=pd.read_csv('test.csv')"
   ]
  },
  {
   "cell_type": "code",
   "execution_count": 6,
   "metadata": {},
   "outputs": [],
   "source": [
    "train_y=pd.read_csv('y_train.csv')"
   ]
  },
  {
   "cell_type": "code",
   "execution_count": 7,
   "metadata": {},
   "outputs": [
    {
     "data": {
      "text/html": [
       "<div>\n",
       "<style scoped>\n",
       "    .dataframe tbody tr th:only-of-type {\n",
       "        vertical-align: middle;\n",
       "    }\n",
       "\n",
       "    .dataframe tbody tr th {\n",
       "        vertical-align: top;\n",
       "    }\n",
       "\n",
       "    .dataframe thead th {\n",
       "        text-align: right;\n",
       "    }\n",
       "</style>\n",
       "<table border=\"1\" class=\"dataframe\">\n",
       "  <thead>\n",
       "    <tr style=\"text-align: right;\">\n",
       "      <th></th>\n",
       "      <th>feature_1</th>\n",
       "      <th>feature_2</th>\n",
       "      <th>feature_3</th>\n",
       "      <th>feature_4</th>\n",
       "      <th>feature_5</th>\n",
       "      <th>feature_6</th>\n",
       "      <th>feature_7</th>\n",
       "      <th>feature_8</th>\n",
       "      <th>feature_9</th>\n",
       "      <th>feature_10</th>\n",
       "      <th>feature_11</th>\n",
       "      <th>feature_12</th>\n",
       "      <th>feature_13</th>\n",
       "      <th>feature_14</th>\n",
       "      <th>feature_15</th>\n",
       "      <th>feature_16</th>\n",
       "      <th>feature_17</th>\n",
       "      <th>feature_18</th>\n",
       "      <th>feature_19</th>\n",
       "      <th>feature_20</th>\n",
       "      <th>feature_21</th>\n",
       "      <th>feature_22</th>\n",
       "      <th>feature_23</th>\n",
       "      <th>feature_24</th>\n",
       "      <th>feature_25</th>\n",
       "      <th>feature_26</th>\n",
       "      <th>feature_27</th>\n",
       "      <th>feature_28</th>\n",
       "      <th>feature_29</th>\n",
       "      <th>feature_30</th>\n",
       "      <th>feature_31</th>\n",
       "      <th>feature_32</th>\n",
       "      <th>feature_33</th>\n",
       "      <th>feature_34</th>\n",
       "      <th>feature_35</th>\n",
       "      <th>feature_36</th>\n",
       "      <th>feature_37</th>\n",
       "      <th>feature_38</th>\n",
       "      <th>feature_39</th>\n",
       "      <th>feature_40</th>\n",
       "      <th>feature_41</th>\n",
       "      <th>feature_42</th>\n",
       "      <th>feature_43</th>\n",
       "      <th>feature_44</th>\n",
       "      <th>feature_45</th>\n",
       "      <th>feature_46</th>\n",
       "      <th>feature_47</th>\n",
       "      <th>feature_48</th>\n",
       "      <th>feature_49</th>\n",
       "      <th>feature_50</th>\n",
       "      <th>feature_51</th>\n",
       "      <th>feature_52</th>\n",
       "      <th>feature_53</th>\n",
       "      <th>feature_54</th>\n",
       "      <th>feature_55</th>\n",
       "      <th>feature_56</th>\n",
       "      <th>feature_57</th>\n",
       "      <th>feature_58</th>\n",
       "    </tr>\n",
       "  </thead>\n",
       "  <tbody>\n",
       "    <tr>\n",
       "      <th>0</th>\n",
       "      <td>-131,97405146667</td>\n",
       "      <td>12.0</td>\n",
       "      <td>13,0</td>\n",
       "      <td>11.747860</td>\n",
       "      <td>1.0</td>\n",
       "      <td>2.0</td>\n",
       "      <td>22,0</td>\n",
       "      <td>-27,750277493704</td>\n",
       "      <td>9.0</td>\n",
       "      <td>NaN</td>\n",
       "      <td>87.058083</td>\n",
       "      <td>21,450413763523102</td>\n",
       "      <td>81.620517</td>\n",
       "      <td>-97.553036</td>\n",
       "      <td>16.0</td>\n",
       "      <td>-12.983080</td>\n",
       "      <td>17,0</td>\n",
       "      <td>4.0</td>\n",
       "      <td>-18.099378</td>\n",
       "      <td>-6.732951</td>\n",
       "      <td>4,0</td>\n",
       "      <td>5.0</td>\n",
       "      <td>1.0</td>\n",
       "      <td>5.0</td>\n",
       "      <td>-17,9129890591338</td>\n",
       "      <td>12.0</td>\n",
       "      <td>11.0</td>\n",
       "      <td>51.471043</td>\n",
       "      <td>3.0</td>\n",
       "      <td>0.0</td>\n",
       "      <td>3.0</td>\n",
       "      <td>2,0</td>\n",
       "      <td>18.831498</td>\n",
       "      <td>66.396910</td>\n",
       "      <td>-37.168058</td>\n",
       "      <td>NaN</td>\n",
       "      <td>4.046918</td>\n",
       "      <td>NaN</td>\n",
       "      <td>-44,375920543996706</td>\n",
       "      <td>18.004199</td>\n",
       "      <td>-30.673090</td>\n",
       "      <td>3.361101</td>\n",
       "      <td>40.974956</td>\n",
       "      <td>0.0</td>\n",
       "      <td>11.0</td>\n",
       "      <td>-87.278260</td>\n",
       "      <td>0,0</td>\n",
       "      <td>4.0</td>\n",
       "      <td>12.459805</td>\n",
       "      <td>3.0</td>\n",
       "      <td>11,0</td>\n",
       "      <td>40.588345</td>\n",
       "      <td>16.957673</td>\n",
       "      <td>14.360604</td>\n",
       "      <td>-53,415701398274706</td>\n",
       "      <td>NaN</td>\n",
       "      <td>NaN</td>\n",
       "      <td>-40.849368</td>\n",
       "    </tr>\n",
       "    <tr>\n",
       "      <th>1</th>\n",
       "      <td>-48,3041715861774</td>\n",
       "      <td>9.0</td>\n",
       "      <td>10,0</td>\n",
       "      <td>10.436009</td>\n",
       "      <td>1.0</td>\n",
       "      <td>NaN</td>\n",
       "      <td>24,0</td>\n",
       "      <td>-25,703719919085497</td>\n",
       "      <td>8.0</td>\n",
       "      <td>0.0</td>\n",
       "      <td>16.009612</td>\n",
       "      <td>-72,79126783832909</td>\n",
       "      <td>-6.461447</td>\n",
       "      <td>-57.383471</td>\n",
       "      <td>17.0</td>\n",
       "      <td>-16.861284</td>\n",
       "      <td>17,0</td>\n",
       "      <td>3.0</td>\n",
       "      <td>16.198657</td>\n",
       "      <td>NaN</td>\n",
       "      <td>4,0</td>\n",
       "      <td>2.0</td>\n",
       "      <td>1.0</td>\n",
       "      <td>NaN</td>\n",
       "      <td>41,7047788312104</td>\n",
       "      <td>16.0</td>\n",
       "      <td>NaN</td>\n",
       "      <td>34.587850</td>\n",
       "      <td>NaN</td>\n",
       "      <td>1.0</td>\n",
       "      <td>5.0</td>\n",
       "      <td>1,0</td>\n",
       "      <td>5.274965</td>\n",
       "      <td>143.517414</td>\n",
       "      <td>-31.440045</td>\n",
       "      <td>3.0</td>\n",
       "      <td>2.018794</td>\n",
       "      <td>31.639457</td>\n",
       "      <td>-22,766313763779998</td>\n",
       "      <td>-34.725224</td>\n",
       "      <td>45.854345</td>\n",
       "      <td>2.832861</td>\n",
       "      <td>26.454657</td>\n",
       "      <td>0.0</td>\n",
       "      <td>10.0</td>\n",
       "      <td>-5.220776</td>\n",
       "      <td>0,0</td>\n",
       "      <td>5.0</td>\n",
       "      <td>27.542202</td>\n",
       "      <td>2.0</td>\n",
       "      <td>NaN</td>\n",
       "      <td>27.113802</td>\n",
       "      <td>-61.457339</td>\n",
       "      <td>2.627029</td>\n",
       "      <td>-39,6179932194784</td>\n",
       "      <td>24.686063</td>\n",
       "      <td>NaN</td>\n",
       "      <td>-45.108764</td>\n",
       "    </tr>\n",
       "    <tr>\n",
       "      <th>2</th>\n",
       "      <td>100,069773659861</td>\n",
       "      <td>13.0</td>\n",
       "      <td>11,0</td>\n",
       "      <td>18.929141</td>\n",
       "      <td>0.0</td>\n",
       "      <td>3.0</td>\n",
       "      <td>23,0</td>\n",
       "      <td>-4,699424954438241</td>\n",
       "      <td>9.0</td>\n",
       "      <td>0.0</td>\n",
       "      <td>75.464985</td>\n",
       "      <td>38,530414272099705</td>\n",
       "      <td>-35.334847</td>\n",
       "      <td>-74.046007</td>\n",
       "      <td>NaN</td>\n",
       "      <td>-7.208878</td>\n",
       "      <td>16,0</td>\n",
       "      <td>NaN</td>\n",
       "      <td>-31.089034</td>\n",
       "      <td>10.123315</td>\n",
       "      <td>5,0</td>\n",
       "      <td>6.0</td>\n",
       "      <td>3.0</td>\n",
       "      <td>7.0</td>\n",
       "      <td>10,8242838031359</td>\n",
       "      <td>13.0</td>\n",
       "      <td>8.0</td>\n",
       "      <td>49.093965</td>\n",
       "      <td>1.0</td>\n",
       "      <td>NaN</td>\n",
       "      <td>4.0</td>\n",
       "      <td>6,0</td>\n",
       "      <td>20.984751</td>\n",
       "      <td>84.880973</td>\n",
       "      <td>-70.628745</td>\n",
       "      <td>NaN</td>\n",
       "      <td>1.217633</td>\n",
       "      <td>105.329939</td>\n",
       "      <td>-29,320117178615497</td>\n",
       "      <td>1.742056</td>\n",
       "      <td>12.218403</td>\n",
       "      <td>-2.028582</td>\n",
       "      <td>49.873473</td>\n",
       "      <td>1.0</td>\n",
       "      <td>11.0</td>\n",
       "      <td>-98.563257</td>\n",
       "      <td>0,0</td>\n",
       "      <td>3.0</td>\n",
       "      <td>18.594894</td>\n",
       "      <td>3.0</td>\n",
       "      <td>16,0</td>\n",
       "      <td>-6.896243</td>\n",
       "      <td>54.733047</td>\n",
       "      <td>-2.216517</td>\n",
       "      <td>-35,2871838640482</td>\n",
       "      <td>25.040067</td>\n",
       "      <td>NaN</td>\n",
       "      <td>-47.242583</td>\n",
       "    </tr>\n",
       "    <tr>\n",
       "      <th>3</th>\n",
       "      <td>-25,5087416417462</td>\n",
       "      <td>13.0</td>\n",
       "      <td>12,0</td>\n",
       "      <td>46.259050</td>\n",
       "      <td>0.0</td>\n",
       "      <td>3.0</td>\n",
       "      <td>23,0</td>\n",
       "      <td>1,2425417539191599</td>\n",
       "      <td>8.0</td>\n",
       "      <td>1.0</td>\n",
       "      <td>-114.959430</td>\n",
       "      <td>NaN</td>\n",
       "      <td>NaN</td>\n",
       "      <td>-113.523562</td>\n",
       "      <td>16.0</td>\n",
       "      <td>-3.478059</td>\n",
       "      <td>17,0</td>\n",
       "      <td>6.0</td>\n",
       "      <td>-0.291220</td>\n",
       "      <td>-30.995198</td>\n",
       "      <td>8,0</td>\n",
       "      <td>3.0</td>\n",
       "      <td>1.0</td>\n",
       "      <td>NaN</td>\n",
       "      <td>39,1266106064488</td>\n",
       "      <td>17.0</td>\n",
       "      <td>12.0</td>\n",
       "      <td>48.913728</td>\n",
       "      <td>1.0</td>\n",
       "      <td>2.0</td>\n",
       "      <td>4.0</td>\n",
       "      <td>3,0</td>\n",
       "      <td>4.363940</td>\n",
       "      <td>85.951710</td>\n",
       "      <td>-71.353546</td>\n",
       "      <td>3.0</td>\n",
       "      <td>0.331994</td>\n",
       "      <td>NaN</td>\n",
       "      <td>-16,741315467876998</td>\n",
       "      <td>NaN</td>\n",
       "      <td>-25.815625</td>\n",
       "      <td>-1.133774</td>\n",
       "      <td>44.798576</td>\n",
       "      <td>1.0</td>\n",
       "      <td>NaN</td>\n",
       "      <td>-0.554252</td>\n",
       "      <td>0,0</td>\n",
       "      <td>NaN</td>\n",
       "      <td>20.084705</td>\n",
       "      <td>2.0</td>\n",
       "      <td>15,0</td>\n",
       "      <td>55.000612</td>\n",
       "      <td>-4.505556</td>\n",
       "      <td>38.156216</td>\n",
       "      <td>-1,7639836715336101</td>\n",
       "      <td>34.969627</td>\n",
       "      <td>46.036218</td>\n",
       "      <td>-33.329253</td>\n",
       "    </tr>\n",
       "    <tr>\n",
       "      <th>4</th>\n",
       "      <td>82,3194077384192</td>\n",
       "      <td>11.0</td>\n",
       "      <td>NaN</td>\n",
       "      <td>56.106711</td>\n",
       "      <td>NaN</td>\n",
       "      <td>2.0</td>\n",
       "      <td>23,0</td>\n",
       "      <td>-55,3530578444829</td>\n",
       "      <td>7.0</td>\n",
       "      <td>0.0</td>\n",
       "      <td>-15.661521</td>\n",
       "      <td>-64,498249348253</td>\n",
       "      <td>NaN</td>\n",
       "      <td>-109.187610</td>\n",
       "      <td>17.0</td>\n",
       "      <td>2.200664</td>\n",
       "      <td>17,0</td>\n",
       "      <td>3.0</td>\n",
       "      <td>-72.580830</td>\n",
       "      <td>18.359769</td>\n",
       "      <td>8,0</td>\n",
       "      <td>7.0</td>\n",
       "      <td>2.0</td>\n",
       "      <td>7.0</td>\n",
       "      <td>NaN</td>\n",
       "      <td>NaN</td>\n",
       "      <td>11.0</td>\n",
       "      <td>41.238975</td>\n",
       "      <td>3.0</td>\n",
       "      <td>0.0</td>\n",
       "      <td>3.0</td>\n",
       "      <td>3,0</td>\n",
       "      <td>11.930483</td>\n",
       "      <td>110.830770</td>\n",
       "      <td>-38.291125</td>\n",
       "      <td>3.0</td>\n",
       "      <td>0.185845</td>\n",
       "      <td>60.799044</td>\n",
       "      <td>-13,473520432564198</td>\n",
       "      <td>9.043501</td>\n",
       "      <td>12.348260</td>\n",
       "      <td>2.928347</td>\n",
       "      <td>NaN</td>\n",
       "      <td>1.0</td>\n",
       "      <td>10.0</td>\n",
       "      <td>-52.169032</td>\n",
       "      <td>0,0</td>\n",
       "      <td>4.0</td>\n",
       "      <td>22.172242</td>\n",
       "      <td>2.0</td>\n",
       "      <td>12,0</td>\n",
       "      <td>16.842511</td>\n",
       "      <td>-7.187769</td>\n",
       "      <td>60.228568</td>\n",
       "      <td>-59,8615288163502</td>\n",
       "      <td>36.044706</td>\n",
       "      <td>36.613905</td>\n",
       "      <td>-10.534727</td>\n",
       "    </tr>\n",
       "  </tbody>\n",
       "</table>\n",
       "</div>"
      ],
      "text/plain": [
       "           feature_1  feature_2 feature_3  feature_4  feature_5  feature_6  \\\n",
       "0   -131,97405146667       12.0      13,0  11.747860        1.0        2.0   \n",
       "1  -48,3041715861774        9.0      10,0  10.436009        1.0        NaN   \n",
       "2   100,069773659861       13.0      11,0  18.929141        0.0        3.0   \n",
       "3  -25,5087416417462       13.0      12,0  46.259050        0.0        3.0   \n",
       "4   82,3194077384192       11.0       NaN  56.106711        NaN        2.0   \n",
       "\n",
       "  feature_7            feature_8  feature_9  feature_10  feature_11  \\\n",
       "0      22,0     -27,750277493704        9.0         NaN   87.058083   \n",
       "1      24,0  -25,703719919085497        8.0         0.0   16.009612   \n",
       "2      23,0   -4,699424954438241        9.0         0.0   75.464985   \n",
       "3      23,0   1,2425417539191599        8.0         1.0 -114.959430   \n",
       "4      23,0    -55,3530578444829        7.0         0.0  -15.661521   \n",
       "\n",
       "           feature_12  feature_13  feature_14  feature_15  feature_16  \\\n",
       "0  21,450413763523102   81.620517  -97.553036        16.0  -12.983080   \n",
       "1  -72,79126783832909   -6.461447  -57.383471        17.0  -16.861284   \n",
       "2  38,530414272099705  -35.334847  -74.046007         NaN   -7.208878   \n",
       "3                 NaN         NaN -113.523562        16.0   -3.478059   \n",
       "4    -64,498249348253         NaN -109.187610        17.0    2.200664   \n",
       "\n",
       "  feature_17  feature_18  feature_19  feature_20 feature_21  feature_22  \\\n",
       "0       17,0         4.0  -18.099378   -6.732951        4,0         5.0   \n",
       "1       17,0         3.0   16.198657         NaN        4,0         2.0   \n",
       "2       16,0         NaN  -31.089034   10.123315        5,0         6.0   \n",
       "3       17,0         6.0   -0.291220  -30.995198        8,0         3.0   \n",
       "4       17,0         3.0  -72.580830   18.359769        8,0         7.0   \n",
       "\n",
       "   feature_23  feature_24         feature_25  feature_26  feature_27  \\\n",
       "0         1.0         5.0  -17,9129890591338        12.0        11.0   \n",
       "1         1.0         NaN   41,7047788312104        16.0         NaN   \n",
       "2         3.0         7.0   10,8242838031359        13.0         8.0   \n",
       "3         1.0         NaN   39,1266106064488        17.0        12.0   \n",
       "4         2.0         7.0                NaN         NaN        11.0   \n",
       "\n",
       "   feature_28  feature_29  feature_30  feature_31 feature_32  feature_33  \\\n",
       "0   51.471043         3.0         0.0         3.0        2,0   18.831498   \n",
       "1   34.587850         NaN         1.0         5.0        1,0    5.274965   \n",
       "2   49.093965         1.0         NaN         4.0        6,0   20.984751   \n",
       "3   48.913728         1.0         2.0         4.0        3,0    4.363940   \n",
       "4   41.238975         3.0         0.0         3.0        3,0   11.930483   \n",
       "\n",
       "   feature_34  feature_35  feature_36  feature_37  feature_38  \\\n",
       "0   66.396910  -37.168058         NaN    4.046918         NaN   \n",
       "1  143.517414  -31.440045         3.0    2.018794   31.639457   \n",
       "2   84.880973  -70.628745         NaN    1.217633  105.329939   \n",
       "3   85.951710  -71.353546         3.0    0.331994         NaN   \n",
       "4  110.830770  -38.291125         3.0    0.185845   60.799044   \n",
       "\n",
       "            feature_39  feature_40  feature_41  feature_42  feature_43  \\\n",
       "0  -44,375920543996706   18.004199  -30.673090    3.361101   40.974956   \n",
       "1  -22,766313763779998  -34.725224   45.854345    2.832861   26.454657   \n",
       "2  -29,320117178615497    1.742056   12.218403   -2.028582   49.873473   \n",
       "3  -16,741315467876998         NaN  -25.815625   -1.133774   44.798576   \n",
       "4  -13,473520432564198    9.043501   12.348260    2.928347         NaN   \n",
       "\n",
       "   feature_44  feature_45  feature_46 feature_47  feature_48  feature_49  \\\n",
       "0         0.0        11.0  -87.278260        0,0         4.0   12.459805   \n",
       "1         0.0        10.0   -5.220776        0,0         5.0   27.542202   \n",
       "2         1.0        11.0  -98.563257        0,0         3.0   18.594894   \n",
       "3         1.0         NaN   -0.554252        0,0         NaN   20.084705   \n",
       "4         1.0        10.0  -52.169032        0,0         4.0   22.172242   \n",
       "\n",
       "   feature_50 feature_51  feature_52  feature_53  feature_54  \\\n",
       "0         3.0       11,0   40.588345   16.957673   14.360604   \n",
       "1         2.0        NaN   27.113802  -61.457339    2.627029   \n",
       "2         3.0       16,0   -6.896243   54.733047   -2.216517   \n",
       "3         2.0       15,0   55.000612   -4.505556   38.156216   \n",
       "4         2.0       12,0   16.842511   -7.187769   60.228568   \n",
       "\n",
       "            feature_55  feature_56  feature_57  feature_58  \n",
       "0  -53,415701398274706         NaN         NaN  -40.849368  \n",
       "1    -39,6179932194784   24.686063         NaN  -45.108764  \n",
       "2    -35,2871838640482   25.040067         NaN  -47.242583  \n",
       "3  -1,7639836715336101   34.969627   46.036218  -33.329253  \n",
       "4    -59,8615288163502   36.044706   36.613905  -10.534727  "
      ]
     },
     "execution_count": 7,
     "metadata": {},
     "output_type": "execute_result"
    }
   ],
   "source": [
    "train_df.head()"
   ]
  },
  {
   "cell_type": "code",
   "execution_count": 8,
   "metadata": {
    "scrolled": true
   },
   "outputs": [
    {
     "data": {
      "text/plain": [
       "((720000, 58), (180000, 58))"
      ]
     },
     "execution_count": 8,
     "metadata": {},
     "output_type": "execute_result"
    }
   ],
   "source": [
    "train_df.shape,test_df.shape"
   ]
  },
  {
   "cell_type": "code",
   "execution_count": 9,
   "metadata": {},
   "outputs": [],
   "source": [
    "def missing_data(data):\n",
    "    total = data.isnull().sum()\n",
    "    percent = (data.isnull().sum()/data.isnull().count()*100)\n",
    "    tt = pd.concat([total, percent], axis=1, keys=['Total', 'Percent'])\n",
    "    types = []\n",
    "    for col in data.columns:\n",
    "        dtype = str(data[col].dtype)\n",
    "        types.append(dtype)\n",
    "    tt['Types'] = types\n",
    "    return(np.transpose(tt))"
   ]
  },
  {
   "cell_type": "markdown",
   "metadata": {},
   "source": [
    "\n",
    "* В среднем мы имеем около 10 процентов промущенных значений в тестовом  и тренировочных датасетах\n"
   ]
  },
  {
   "cell_type": "code",
   "execution_count": 10,
   "metadata": {},
   "outputs": [
    {
     "data": {
      "text/html": [
       "<div>\n",
       "<style scoped>\n",
       "    .dataframe tbody tr th:only-of-type {\n",
       "        vertical-align: middle;\n",
       "    }\n",
       "\n",
       "    .dataframe tbody tr th {\n",
       "        vertical-align: top;\n",
       "    }\n",
       "\n",
       "    .dataframe thead th {\n",
       "        text-align: right;\n",
       "    }\n",
       "</style>\n",
       "<table border=\"1\" class=\"dataframe\">\n",
       "  <thead>\n",
       "    <tr style=\"text-align: right;\">\n",
       "      <th></th>\n",
       "      <th>feature_1</th>\n",
       "      <th>feature_2</th>\n",
       "      <th>feature_3</th>\n",
       "      <th>feature_4</th>\n",
       "      <th>feature_5</th>\n",
       "      <th>feature_6</th>\n",
       "      <th>feature_7</th>\n",
       "      <th>feature_8</th>\n",
       "      <th>feature_9</th>\n",
       "      <th>feature_10</th>\n",
       "      <th>feature_11</th>\n",
       "      <th>feature_12</th>\n",
       "      <th>feature_13</th>\n",
       "      <th>feature_14</th>\n",
       "      <th>feature_15</th>\n",
       "      <th>feature_16</th>\n",
       "      <th>feature_17</th>\n",
       "      <th>feature_18</th>\n",
       "      <th>feature_19</th>\n",
       "      <th>feature_20</th>\n",
       "      <th>feature_21</th>\n",
       "      <th>feature_22</th>\n",
       "      <th>feature_23</th>\n",
       "      <th>feature_24</th>\n",
       "      <th>feature_25</th>\n",
       "      <th>feature_26</th>\n",
       "      <th>feature_27</th>\n",
       "      <th>feature_28</th>\n",
       "      <th>feature_29</th>\n",
       "      <th>feature_30</th>\n",
       "      <th>feature_31</th>\n",
       "      <th>feature_32</th>\n",
       "      <th>feature_33</th>\n",
       "      <th>feature_34</th>\n",
       "      <th>feature_35</th>\n",
       "      <th>feature_36</th>\n",
       "      <th>feature_37</th>\n",
       "      <th>feature_38</th>\n",
       "      <th>feature_39</th>\n",
       "      <th>feature_40</th>\n",
       "      <th>feature_41</th>\n",
       "      <th>feature_42</th>\n",
       "      <th>feature_43</th>\n",
       "      <th>feature_44</th>\n",
       "      <th>feature_45</th>\n",
       "      <th>feature_46</th>\n",
       "      <th>feature_47</th>\n",
       "      <th>feature_48</th>\n",
       "      <th>feature_49</th>\n",
       "      <th>feature_50</th>\n",
       "      <th>feature_51</th>\n",
       "      <th>feature_52</th>\n",
       "      <th>feature_53</th>\n",
       "      <th>feature_54</th>\n",
       "      <th>feature_55</th>\n",
       "      <th>feature_56</th>\n",
       "      <th>feature_57</th>\n",
       "      <th>feature_58</th>\n",
       "    </tr>\n",
       "  </thead>\n",
       "  <tbody>\n",
       "    <tr>\n",
       "      <th>Total</th>\n",
       "      <td>63649</td>\n",
       "      <td>72916</td>\n",
       "      <td>54748</td>\n",
       "      <td>57688</td>\n",
       "      <td>64562</td>\n",
       "      <td>82612</td>\n",
       "      <td>86929</td>\n",
       "      <td>82776</td>\n",
       "      <td>47892</td>\n",
       "      <td>84808</td>\n",
       "      <td>86469</td>\n",
       "      <td>62386</td>\n",
       "      <td>78856</td>\n",
       "      <td>61801</td>\n",
       "      <td>91811</td>\n",
       "      <td>62447</td>\n",
       "      <td>76598</td>\n",
       "      <td>73786</td>\n",
       "      <td>34076</td>\n",
       "      <td>56178</td>\n",
       "      <td>76738</td>\n",
       "      <td>68879</td>\n",
       "      <td>105181</td>\n",
       "      <td>61199</td>\n",
       "      <td>72474</td>\n",
       "      <td>61355</td>\n",
       "      <td>85922</td>\n",
       "      <td>70408</td>\n",
       "      <td>90543</td>\n",
       "      <td>62470</td>\n",
       "      <td>57568</td>\n",
       "      <td>63106</td>\n",
       "      <td>67469</td>\n",
       "      <td>67157</td>\n",
       "      <td>79151</td>\n",
       "      <td>67946</td>\n",
       "      <td>54577</td>\n",
       "      <td>66620</td>\n",
       "      <td>70304</td>\n",
       "      <td>90862</td>\n",
       "      <td>53666</td>\n",
       "      <td>44155</td>\n",
       "      <td>63940</td>\n",
       "      <td>84590</td>\n",
       "      <td>75127</td>\n",
       "      <td>63353</td>\n",
       "      <td>68989</td>\n",
       "      <td>73642</td>\n",
       "      <td>76882</td>\n",
       "      <td>50809</td>\n",
       "      <td>81060</td>\n",
       "      <td>45176</td>\n",
       "      <td>68929</td>\n",
       "      <td>69976</td>\n",
       "      <td>79347</td>\n",
       "      <td>69607</td>\n",
       "      <td>51728</td>\n",
       "      <td>91269</td>\n",
       "    </tr>\n",
       "    <tr>\n",
       "      <th>Percent</th>\n",
       "      <td>8.84014</td>\n",
       "      <td>10.1272</td>\n",
       "      <td>7.60389</td>\n",
       "      <td>8.01222</td>\n",
       "      <td>8.96694</td>\n",
       "      <td>11.4739</td>\n",
       "      <td>12.0735</td>\n",
       "      <td>11.4967</td>\n",
       "      <td>6.65167</td>\n",
       "      <td>11.7789</td>\n",
       "      <td>12.0096</td>\n",
       "      <td>8.66472</td>\n",
       "      <td>10.9522</td>\n",
       "      <td>8.58347</td>\n",
       "      <td>12.7515</td>\n",
       "      <td>8.67319</td>\n",
       "      <td>10.6386</td>\n",
       "      <td>10.2481</td>\n",
       "      <td>4.73278</td>\n",
       "      <td>7.8025</td>\n",
       "      <td>10.6581</td>\n",
       "      <td>9.56653</td>\n",
       "      <td>14.6085</td>\n",
       "      <td>8.49986</td>\n",
       "      <td>10.0658</td>\n",
       "      <td>8.52153</td>\n",
       "      <td>11.9336</td>\n",
       "      <td>9.77889</td>\n",
       "      <td>12.5754</td>\n",
       "      <td>8.67639</td>\n",
       "      <td>7.99556</td>\n",
       "      <td>8.76472</td>\n",
       "      <td>9.37069</td>\n",
       "      <td>9.32736</td>\n",
       "      <td>10.9932</td>\n",
       "      <td>9.43694</td>\n",
       "      <td>7.58014</td>\n",
       "      <td>9.25278</td>\n",
       "      <td>9.76444</td>\n",
       "      <td>12.6197</td>\n",
       "      <td>7.45361</td>\n",
       "      <td>6.13264</td>\n",
       "      <td>8.88056</td>\n",
       "      <td>11.7486</td>\n",
       "      <td>10.4343</td>\n",
       "      <td>8.79903</td>\n",
       "      <td>9.58181</td>\n",
       "      <td>10.2281</td>\n",
       "      <td>10.6781</td>\n",
       "      <td>7.05681</td>\n",
       "      <td>11.2583</td>\n",
       "      <td>6.27444</td>\n",
       "      <td>9.57347</td>\n",
       "      <td>9.71889</td>\n",
       "      <td>11.0204</td>\n",
       "      <td>9.66764</td>\n",
       "      <td>7.18444</td>\n",
       "      <td>12.6762</td>\n",
       "    </tr>\n",
       "    <tr>\n",
       "      <th>Types</th>\n",
       "      <td>object</td>\n",
       "      <td>float64</td>\n",
       "      <td>object</td>\n",
       "      <td>float64</td>\n",
       "      <td>float64</td>\n",
       "      <td>float64</td>\n",
       "      <td>object</td>\n",
       "      <td>object</td>\n",
       "      <td>float64</td>\n",
       "      <td>float64</td>\n",
       "      <td>float64</td>\n",
       "      <td>object</td>\n",
       "      <td>float64</td>\n",
       "      <td>float64</td>\n",
       "      <td>float64</td>\n",
       "      <td>float64</td>\n",
       "      <td>object</td>\n",
       "      <td>float64</td>\n",
       "      <td>float64</td>\n",
       "      <td>float64</td>\n",
       "      <td>object</td>\n",
       "      <td>float64</td>\n",
       "      <td>float64</td>\n",
       "      <td>float64</td>\n",
       "      <td>object</td>\n",
       "      <td>float64</td>\n",
       "      <td>float64</td>\n",
       "      <td>float64</td>\n",
       "      <td>float64</td>\n",
       "      <td>float64</td>\n",
       "      <td>float64</td>\n",
       "      <td>object</td>\n",
       "      <td>float64</td>\n",
       "      <td>float64</td>\n",
       "      <td>float64</td>\n",
       "      <td>float64</td>\n",
       "      <td>float64</td>\n",
       "      <td>float64</td>\n",
       "      <td>object</td>\n",
       "      <td>float64</td>\n",
       "      <td>float64</td>\n",
       "      <td>float64</td>\n",
       "      <td>float64</td>\n",
       "      <td>float64</td>\n",
       "      <td>float64</td>\n",
       "      <td>float64</td>\n",
       "      <td>object</td>\n",
       "      <td>float64</td>\n",
       "      <td>float64</td>\n",
       "      <td>float64</td>\n",
       "      <td>object</td>\n",
       "      <td>float64</td>\n",
       "      <td>float64</td>\n",
       "      <td>float64</td>\n",
       "      <td>object</td>\n",
       "      <td>float64</td>\n",
       "      <td>float64</td>\n",
       "      <td>float64</td>\n",
       "    </tr>\n",
       "  </tbody>\n",
       "</table>\n",
       "</div>"
      ],
      "text/plain": [
       "        feature_1 feature_2 feature_3 feature_4 feature_5 feature_6 feature_7  \\\n",
       "Total       63649     72916     54748     57688     64562     82612     86929   \n",
       "Percent   8.84014   10.1272   7.60389   8.01222   8.96694   11.4739   12.0735   \n",
       "Types      object   float64    object   float64   float64   float64    object   \n",
       "\n",
       "        feature_8 feature_9 feature_10 feature_11 feature_12 feature_13  \\\n",
       "Total       82776     47892      84808      86469      62386      78856   \n",
       "Percent   11.4967   6.65167    11.7789    12.0096    8.66472    10.9522   \n",
       "Types      object   float64    float64    float64     object    float64   \n",
       "\n",
       "        feature_14 feature_15 feature_16 feature_17 feature_18 feature_19  \\\n",
       "Total        61801      91811      62447      76598      73786      34076   \n",
       "Percent    8.58347    12.7515    8.67319    10.6386    10.2481    4.73278   \n",
       "Types      float64    float64    float64     object    float64    float64   \n",
       "\n",
       "        feature_20 feature_21 feature_22 feature_23 feature_24 feature_25  \\\n",
       "Total        56178      76738      68879     105181      61199      72474   \n",
       "Percent     7.8025    10.6581    9.56653    14.6085    8.49986    10.0658   \n",
       "Types      float64     object    float64    float64    float64     object   \n",
       "\n",
       "        feature_26 feature_27 feature_28 feature_29 feature_30 feature_31  \\\n",
       "Total        61355      85922      70408      90543      62470      57568   \n",
       "Percent    8.52153    11.9336    9.77889    12.5754    8.67639    7.99556   \n",
       "Types      float64    float64    float64    float64    float64    float64   \n",
       "\n",
       "        feature_32 feature_33 feature_34 feature_35 feature_36 feature_37  \\\n",
       "Total        63106      67469      67157      79151      67946      54577   \n",
       "Percent    8.76472    9.37069    9.32736    10.9932    9.43694    7.58014   \n",
       "Types       object    float64    float64    float64    float64    float64   \n",
       "\n",
       "        feature_38 feature_39 feature_40 feature_41 feature_42 feature_43  \\\n",
       "Total        66620      70304      90862      53666      44155      63940   \n",
       "Percent    9.25278    9.76444    12.6197    7.45361    6.13264    8.88056   \n",
       "Types      float64     object    float64    float64    float64    float64   \n",
       "\n",
       "        feature_44 feature_45 feature_46 feature_47 feature_48 feature_49  \\\n",
       "Total        84590      75127      63353      68989      73642      76882   \n",
       "Percent    11.7486    10.4343    8.79903    9.58181    10.2281    10.6781   \n",
       "Types      float64    float64    float64     object    float64    float64   \n",
       "\n",
       "        feature_50 feature_51 feature_52 feature_53 feature_54 feature_55  \\\n",
       "Total        50809      81060      45176      68929      69976      79347   \n",
       "Percent    7.05681    11.2583    6.27444    9.57347    9.71889    11.0204   \n",
       "Types      float64     object    float64    float64    float64     object   \n",
       "\n",
       "        feature_56 feature_57 feature_58  \n",
       "Total        69607      51728      91269  \n",
       "Percent    9.66764    7.18444    12.6762  \n",
       "Types      float64    float64    float64  "
      ]
     },
     "execution_count": 10,
     "metadata": {},
     "output_type": "execute_result"
    }
   ],
   "source": [
    "missing_data(train_df)"
   ]
  },
  {
   "cell_type": "code",
   "execution_count": 11,
   "metadata": {},
   "outputs": [
    {
     "data": {
      "text/plain": [
       "9.662744252873564"
      ]
     },
     "execution_count": 11,
     "metadata": {},
     "output_type": "execute_result"
    }
   ],
   "source": [
    "missing_data(train_df).iloc[1].mean()"
   ]
  },
  {
   "cell_type": "code",
   "execution_count": 12,
   "metadata": {},
   "outputs": [
    {
     "data": {
      "text/html": [
       "<div>\n",
       "<style scoped>\n",
       "    .dataframe tbody tr th:only-of-type {\n",
       "        vertical-align: middle;\n",
       "    }\n",
       "\n",
       "    .dataframe tbody tr th {\n",
       "        vertical-align: top;\n",
       "    }\n",
       "\n",
       "    .dataframe thead th {\n",
       "        text-align: right;\n",
       "    }\n",
       "</style>\n",
       "<table border=\"1\" class=\"dataframe\">\n",
       "  <thead>\n",
       "    <tr style=\"text-align: right;\">\n",
       "      <th></th>\n",
       "      <th>feature_1</th>\n",
       "      <th>feature_2</th>\n",
       "      <th>feature_3</th>\n",
       "      <th>feature_4</th>\n",
       "      <th>feature_5</th>\n",
       "      <th>feature_6</th>\n",
       "      <th>feature_7</th>\n",
       "      <th>feature_8</th>\n",
       "      <th>feature_9</th>\n",
       "      <th>feature_10</th>\n",
       "      <th>feature_11</th>\n",
       "      <th>feature_12</th>\n",
       "      <th>feature_13</th>\n",
       "      <th>feature_14</th>\n",
       "      <th>feature_15</th>\n",
       "      <th>feature_16</th>\n",
       "      <th>feature_17</th>\n",
       "      <th>feature_18</th>\n",
       "      <th>feature_19</th>\n",
       "      <th>feature_20</th>\n",
       "      <th>feature_21</th>\n",
       "      <th>feature_22</th>\n",
       "      <th>feature_23</th>\n",
       "      <th>feature_24</th>\n",
       "      <th>feature_25</th>\n",
       "      <th>feature_26</th>\n",
       "      <th>feature_27</th>\n",
       "      <th>feature_28</th>\n",
       "      <th>feature_29</th>\n",
       "      <th>feature_30</th>\n",
       "      <th>feature_31</th>\n",
       "      <th>feature_32</th>\n",
       "      <th>feature_33</th>\n",
       "      <th>feature_34</th>\n",
       "      <th>feature_35</th>\n",
       "      <th>feature_36</th>\n",
       "      <th>feature_37</th>\n",
       "      <th>feature_38</th>\n",
       "      <th>feature_39</th>\n",
       "      <th>feature_40</th>\n",
       "      <th>feature_41</th>\n",
       "      <th>feature_42</th>\n",
       "      <th>feature_43</th>\n",
       "      <th>feature_44</th>\n",
       "      <th>feature_45</th>\n",
       "      <th>feature_46</th>\n",
       "      <th>feature_47</th>\n",
       "      <th>feature_48</th>\n",
       "      <th>feature_49</th>\n",
       "      <th>feature_50</th>\n",
       "      <th>feature_51</th>\n",
       "      <th>feature_52</th>\n",
       "      <th>feature_53</th>\n",
       "      <th>feature_54</th>\n",
       "      <th>feature_55</th>\n",
       "      <th>feature_56</th>\n",
       "      <th>feature_57</th>\n",
       "      <th>feature_58</th>\n",
       "    </tr>\n",
       "  </thead>\n",
       "  <tbody>\n",
       "    <tr>\n",
       "      <th>Total</th>\n",
       "      <td>15822</td>\n",
       "      <td>18163</td>\n",
       "      <td>13702</td>\n",
       "      <td>14261</td>\n",
       "      <td>16063</td>\n",
       "      <td>20756</td>\n",
       "      <td>21489</td>\n",
       "      <td>20819</td>\n",
       "      <td>12064</td>\n",
       "      <td>21146</td>\n",
       "      <td>21442</td>\n",
       "      <td>15532</td>\n",
       "      <td>19320</td>\n",
       "      <td>15308</td>\n",
       "      <td>22892</td>\n",
       "      <td>15441</td>\n",
       "      <td>19093</td>\n",
       "      <td>18492</td>\n",
       "      <td>8338</td>\n",
       "      <td>14223</td>\n",
       "      <td>19291</td>\n",
       "      <td>17249</td>\n",
       "      <td>26207</td>\n",
       "      <td>15420</td>\n",
       "      <td>18126</td>\n",
       "      <td>15091</td>\n",
       "      <td>21487</td>\n",
       "      <td>17497</td>\n",
       "      <td>22465</td>\n",
       "      <td>15887</td>\n",
       "      <td>14485</td>\n",
       "      <td>15959</td>\n",
       "      <td>16796</td>\n",
       "      <td>16900</td>\n",
       "      <td>19883</td>\n",
       "      <td>16951</td>\n",
       "      <td>13627</td>\n",
       "      <td>16597</td>\n",
       "      <td>17443</td>\n",
       "      <td>22885</td>\n",
       "      <td>13486</td>\n",
       "      <td>11151</td>\n",
       "      <td>16001</td>\n",
       "      <td>20948</td>\n",
       "      <td>18626</td>\n",
       "      <td>16146</td>\n",
       "      <td>17387</td>\n",
       "      <td>18364</td>\n",
       "      <td>19160</td>\n",
       "      <td>12430</td>\n",
       "      <td>20334</td>\n",
       "      <td>11280</td>\n",
       "      <td>17054</td>\n",
       "      <td>17206</td>\n",
       "      <td>19797</td>\n",
       "      <td>17467</td>\n",
       "      <td>12906</td>\n",
       "      <td>22616</td>\n",
       "    </tr>\n",
       "    <tr>\n",
       "      <th>Percent</th>\n",
       "      <td>8.79</td>\n",
       "      <td>10.0906</td>\n",
       "      <td>7.61222</td>\n",
       "      <td>7.92278</td>\n",
       "      <td>8.92389</td>\n",
       "      <td>11.5311</td>\n",
       "      <td>11.9383</td>\n",
       "      <td>11.5661</td>\n",
       "      <td>6.70222</td>\n",
       "      <td>11.7478</td>\n",
       "      <td>11.9122</td>\n",
       "      <td>8.62889</td>\n",
       "      <td>10.7333</td>\n",
       "      <td>8.50444</td>\n",
       "      <td>12.7178</td>\n",
       "      <td>8.57833</td>\n",
       "      <td>10.6072</td>\n",
       "      <td>10.2733</td>\n",
       "      <td>4.63222</td>\n",
       "      <td>7.90167</td>\n",
       "      <td>10.7172</td>\n",
       "      <td>9.58278</td>\n",
       "      <td>14.5594</td>\n",
       "      <td>8.56667</td>\n",
       "      <td>10.07</td>\n",
       "      <td>8.38389</td>\n",
       "      <td>11.9372</td>\n",
       "      <td>9.72056</td>\n",
       "      <td>12.4806</td>\n",
       "      <td>8.82611</td>\n",
       "      <td>8.04722</td>\n",
       "      <td>8.86611</td>\n",
       "      <td>9.33111</td>\n",
       "      <td>9.38889</td>\n",
       "      <td>11.0461</td>\n",
       "      <td>9.41722</td>\n",
       "      <td>7.57056</td>\n",
       "      <td>9.22056</td>\n",
       "      <td>9.69056</td>\n",
       "      <td>12.7139</td>\n",
       "      <td>7.49222</td>\n",
       "      <td>6.195</td>\n",
       "      <td>8.88944</td>\n",
       "      <td>11.6378</td>\n",
       "      <td>10.3478</td>\n",
       "      <td>8.97</td>\n",
       "      <td>9.65944</td>\n",
       "      <td>10.2022</td>\n",
       "      <td>10.6444</td>\n",
       "      <td>6.90556</td>\n",
       "      <td>11.2967</td>\n",
       "      <td>6.26667</td>\n",
       "      <td>9.47444</td>\n",
       "      <td>9.55889</td>\n",
       "      <td>10.9983</td>\n",
       "      <td>9.70389</td>\n",
       "      <td>7.17</td>\n",
       "      <td>12.5644</td>\n",
       "    </tr>\n",
       "    <tr>\n",
       "      <th>Types</th>\n",
       "      <td>object</td>\n",
       "      <td>float64</td>\n",
       "      <td>object</td>\n",
       "      <td>float64</td>\n",
       "      <td>float64</td>\n",
       "      <td>float64</td>\n",
       "      <td>object</td>\n",
       "      <td>object</td>\n",
       "      <td>float64</td>\n",
       "      <td>float64</td>\n",
       "      <td>float64</td>\n",
       "      <td>object</td>\n",
       "      <td>float64</td>\n",
       "      <td>float64</td>\n",
       "      <td>float64</td>\n",
       "      <td>float64</td>\n",
       "      <td>object</td>\n",
       "      <td>float64</td>\n",
       "      <td>float64</td>\n",
       "      <td>float64</td>\n",
       "      <td>object</td>\n",
       "      <td>float64</td>\n",
       "      <td>float64</td>\n",
       "      <td>float64</td>\n",
       "      <td>object</td>\n",
       "      <td>float64</td>\n",
       "      <td>float64</td>\n",
       "      <td>float64</td>\n",
       "      <td>float64</td>\n",
       "      <td>float64</td>\n",
       "      <td>float64</td>\n",
       "      <td>object</td>\n",
       "      <td>float64</td>\n",
       "      <td>float64</td>\n",
       "      <td>float64</td>\n",
       "      <td>float64</td>\n",
       "      <td>float64</td>\n",
       "      <td>float64</td>\n",
       "      <td>object</td>\n",
       "      <td>float64</td>\n",
       "      <td>float64</td>\n",
       "      <td>float64</td>\n",
       "      <td>float64</td>\n",
       "      <td>float64</td>\n",
       "      <td>float64</td>\n",
       "      <td>float64</td>\n",
       "      <td>object</td>\n",
       "      <td>float64</td>\n",
       "      <td>float64</td>\n",
       "      <td>float64</td>\n",
       "      <td>object</td>\n",
       "      <td>float64</td>\n",
       "      <td>float64</td>\n",
       "      <td>float64</td>\n",
       "      <td>object</td>\n",
       "      <td>float64</td>\n",
       "      <td>float64</td>\n",
       "      <td>float64</td>\n",
       "    </tr>\n",
       "  </tbody>\n",
       "</table>\n",
       "</div>"
      ],
      "text/plain": [
       "        feature_1 feature_2 feature_3 feature_4 feature_5 feature_6 feature_7  \\\n",
       "Total       15822     18163     13702     14261     16063     20756     21489   \n",
       "Percent      8.79   10.0906   7.61222   7.92278   8.92389   11.5311   11.9383   \n",
       "Types      object   float64    object   float64   float64   float64    object   \n",
       "\n",
       "        feature_8 feature_9 feature_10 feature_11 feature_12 feature_13  \\\n",
       "Total       20819     12064      21146      21442      15532      19320   \n",
       "Percent   11.5661   6.70222    11.7478    11.9122    8.62889    10.7333   \n",
       "Types      object   float64    float64    float64     object    float64   \n",
       "\n",
       "        feature_14 feature_15 feature_16 feature_17 feature_18 feature_19  \\\n",
       "Total        15308      22892      15441      19093      18492       8338   \n",
       "Percent    8.50444    12.7178    8.57833    10.6072    10.2733    4.63222   \n",
       "Types      float64    float64    float64     object    float64    float64   \n",
       "\n",
       "        feature_20 feature_21 feature_22 feature_23 feature_24 feature_25  \\\n",
       "Total        14223      19291      17249      26207      15420      18126   \n",
       "Percent    7.90167    10.7172    9.58278    14.5594    8.56667      10.07   \n",
       "Types      float64     object    float64    float64    float64     object   \n",
       "\n",
       "        feature_26 feature_27 feature_28 feature_29 feature_30 feature_31  \\\n",
       "Total        15091      21487      17497      22465      15887      14485   \n",
       "Percent    8.38389    11.9372    9.72056    12.4806    8.82611    8.04722   \n",
       "Types      float64    float64    float64    float64    float64    float64   \n",
       "\n",
       "        feature_32 feature_33 feature_34 feature_35 feature_36 feature_37  \\\n",
       "Total        15959      16796      16900      19883      16951      13627   \n",
       "Percent    8.86611    9.33111    9.38889    11.0461    9.41722    7.57056   \n",
       "Types       object    float64    float64    float64    float64    float64   \n",
       "\n",
       "        feature_38 feature_39 feature_40 feature_41 feature_42 feature_43  \\\n",
       "Total        16597      17443      22885      13486      11151      16001   \n",
       "Percent    9.22056    9.69056    12.7139    7.49222      6.195    8.88944   \n",
       "Types      float64     object    float64    float64    float64    float64   \n",
       "\n",
       "        feature_44 feature_45 feature_46 feature_47 feature_48 feature_49  \\\n",
       "Total        20948      18626      16146      17387      18364      19160   \n",
       "Percent    11.6378    10.3478       8.97    9.65944    10.2022    10.6444   \n",
       "Types      float64    float64    float64     object    float64    float64   \n",
       "\n",
       "        feature_50 feature_51 feature_52 feature_53 feature_54 feature_55  \\\n",
       "Total        12430      20334      11280      17054      17206      19797   \n",
       "Percent    6.90556    11.2967    6.26667    9.47444    9.55889    10.9983   \n",
       "Types      float64     object    float64    float64    float64     object   \n",
       "\n",
       "        feature_56 feature_57 feature_58  \n",
       "Total        17467      12906      22616  \n",
       "Percent    9.70389       7.17    12.5644  \n",
       "Types      float64    float64    float64  "
      ]
     },
     "execution_count": 12,
     "metadata": {},
     "output_type": "execute_result"
    }
   ],
   "source": [
    "missing_data(test_df)"
   ]
  },
  {
   "cell_type": "code",
   "execution_count": 13,
   "metadata": {},
   "outputs": [
    {
     "data": {
      "text/plain": [
       "9.645316091954022"
      ]
     },
     "execution_count": 13,
     "metadata": {},
     "output_type": "execute_result"
    }
   ],
   "source": [
    "missing_data(test_df).iloc[1].mean()"
   ]
  },
  {
   "cell_type": "markdown",
   "metadata": {},
   "source": [
    "* Некоторые, очевидно числовые значения записаны как строки. Справимся с этим"
   ]
  },
  {
   "cell_type": "code",
   "execution_count": 14,
   "metadata": {},
   "outputs": [],
   "source": [
    "train_df=train_df.applymap(lambda x: x if pd.isna(x) or isinstance(x, float)  else float(x.replace(',','.')))\n",
    "\n",
    "test_df=test_df.applymap(lambda x: x if pd.isna(x) or isinstance(x, float)  else float(x.replace(',','.')))"
   ]
  },
  {
   "cell_type": "code",
   "execution_count": 15,
   "metadata": {},
   "outputs": [
    {
     "data": {
      "text/plain": [
       "(720000, 58)"
      ]
     },
     "execution_count": 15,
     "metadata": {},
     "output_type": "execute_result"
    }
   ],
   "source": [
    "train_df.shape"
   ]
  },
  {
   "cell_type": "markdown",
   "metadata": {},
   "source": [
    "#### Убедимся, что класы не сбалансированы"
   ]
  },
  {
   "cell_type": "code",
   "execution_count": 16,
   "metadata": {
    "scrolled": true
   },
   "outputs": [
    {
     "data": {
      "text/plain": [
       "<matplotlib.axes._subplots.AxesSubplot at 0x7fcfd3dbba58>"
      ]
     },
     "execution_count": 16,
     "metadata": {},
     "output_type": "execute_result"
    },
    {
     "data": {
      "image/png": "[encoded data removed]",
      "text/plain": [
       "<Figure size 432x288 with 1 Axes>"
      ]
     },
     "metadata": {
      "needs_background": "light"
     },
     "output_type": "display_data"
    }
   ],
   "source": [
    "sns.countplot(train_y.iloc[:,0], palette='Set3')"
   ]
  },
  {
   "cell_type": "markdown",
   "metadata": {},
   "source": [
    "### Проверим, что у нас нет дубликатов\n"
   ]
  },
  {
   "cell_type": "code",
   "execution_count": 17,
   "metadata": {},
   "outputs": [
    {
     "data": {
      "text/plain": [
       "0"
      ]
     },
     "execution_count": 17,
     "metadata": {},
     "output_type": "execute_result"
    }
   ],
   "source": [
    "train_df.duplicated().sum()"
   ]
  },
  {
   "cell_type": "markdown",
   "metadata": {},
   "source": [
    "### Что-то надо делать с пропусками, посмотрим для начала , если ввобще от них избавиться:"
   ]
  },
  {
   "cell_type": "code",
   "execution_count": 18,
   "metadata": {},
   "outputs": [
    {
     "data": {
      "text/plain": [
       "((1985, 58), (720000, 58))"
      ]
     },
     "execution_count": 18,
     "metadata": {},
     "output_type": "execute_result"
    }
   ],
   "source": [
    "train_df.dropna().shape, train_df.shape"
   ]
  },
  {
   "cell_type": "code",
   "execution_count": 19,
   "metadata": {},
   "outputs": [
    {
     "data": {
      "text/plain": [
       "((477, 58), (180000, 58))"
      ]
     },
     "execution_count": 19,
     "metadata": {},
     "output_type": "execute_result"
    }
   ],
   "source": [
    "test_df.dropna().shape, test_df.shape"
   ]
  },
  {
   "cell_type": "code",
   "execution_count": 20,
   "metadata": {},
   "outputs": [],
   "source": [
    "### Совсем трагически сократилось"
   ]
  },
  {
   "cell_type": "code",
   "execution_count": 21,
   "metadata": {},
   "outputs": [
    {
     "data": {
      "text/plain": [
       "((720000, 1), (720000, 58))"
      ]
     },
     "execution_count": 21,
     "metadata": {},
     "output_type": "execute_result"
    }
   ],
   "source": [
    "train_y.shape,train_df.shape"
   ]
  },
  {
   "cell_type": "code",
   "execution_count": null,
   "metadata": {},
   "outputs": [],
   "source": []
  },
  {
   "cell_type": "markdown",
   "metadata": {},
   "source": [
    "### Отложим сет для валидации"
   ]
  },
  {
   "cell_type": "code",
   "execution_count": 22,
   "metadata": {},
   "outputs": [],
   "source": [
    "X, X_valid ,y , y_valid = train_test_split(train_df, train_y, random_state=42, test_size=.3,stratify=train_y)"
   ]
  },
  {
   "cell_type": "code",
   "execution_count": 23,
   "metadata": {},
   "outputs": [
    {
     "data": {
      "text/plain": [
       "((504000, 58), (504000, 1))"
      ]
     },
     "execution_count": 23,
     "metadata": {},
     "output_type": "execute_result"
    }
   ],
   "source": [
    "X.shape, y.shape"
   ]
  },
  {
   "cell_type": "code",
   "execution_count": 24,
   "metadata": {},
   "outputs": [],
   "source": [
    "X_train, X_test ,y_train , y_test = train_test_split(X, y, random_state=42, test_size=.3,stratify=y)"
   ]
  },
  {
   "cell_type": "code",
   "execution_count": 25,
   "metadata": {},
   "outputs": [
    {
     "data": {
      "text/plain": [
       "((352800, 58), (151200, 58), (352800, 1), (151200, 1))"
      ]
     },
     "execution_count": 25,
     "metadata": {},
     "output_type": "execute_result"
    }
   ],
   "source": [
    "X_train.shape, X_test.shape ,y_train.shape , y_test.shape"
   ]
  },
  {
   "cell_type": "code",
   "execution_count": 26,
   "metadata": {},
   "outputs": [],
   "source": [
    "X_train_temp=X_train.copy()"
   ]
  },
  {
   "cell_type": "code",
   "execution_count": 283,
   "metadata": {},
   "outputs": [
    {
     "data": {
      "text/plain": [
       "(352800, 58)"
      ]
     },
     "execution_count": 283,
     "metadata": {},
     "output_type": "execute_result"
    }
   ],
   "source": [
    "X_train_temp.shape"
   ]
  },
  {
   "cell_type": "markdown",
   "metadata": {},
   "source": [
    "### Заменим пропущенные значения, на средние и посомтрим на данные вниматиельнее"
   ]
  },
  {
   "cell_type": "code",
   "execution_count": 259,
   "metadata": {},
   "outputs": [],
   "source": [
    "X_train=X_train_temp.copy()"
   ]
  },
  {
   "cell_type": "code",
   "execution_count": 260,
   "metadata": {},
   "outputs": [],
   "source": [
    "X_train=X_train.fillna(X_train.mean())"
   ]
  },
  {
   "cell_type": "markdown",
   "metadata": {},
   "source": [
    "#### Данные тотчно нуждаются в какой-то нормализации"
   ]
  },
  {
   "cell_type": "code",
   "execution_count": 265,
   "metadata": {},
   "outputs": [
    {
     "data": {
      "text/html": [
       "<div>\n",
       "<style scoped>\n",
       "    .dataframe tbody tr th:only-of-type {\n",
       "        vertical-align: middle;\n",
       "    }\n",
       "\n",
       "    .dataframe tbody tr th {\n",
       "        vertical-align: top;\n",
       "    }\n",
       "\n",
       "    .dataframe thead th {\n",
       "        text-align: right;\n",
       "    }\n",
       "</style>\n",
       "<table border=\"1\" class=\"dataframe\">\n",
       "  <thead>\n",
       "    <tr style=\"text-align: right;\">\n",
       "      <th></th>\n",
       "      <th>feature_1</th>\n",
       "      <th>feature_2</th>\n",
       "      <th>feature_3</th>\n",
       "      <th>feature_4</th>\n",
       "      <th>feature_5</th>\n",
       "      <th>feature_6</th>\n",
       "      <th>feature_7</th>\n",
       "      <th>feature_8</th>\n",
       "      <th>feature_9</th>\n",
       "      <th>feature_10</th>\n",
       "      <th>feature_11</th>\n",
       "      <th>feature_12</th>\n",
       "      <th>feature_13</th>\n",
       "      <th>feature_14</th>\n",
       "      <th>feature_15</th>\n",
       "      <th>feature_16</th>\n",
       "      <th>feature_17</th>\n",
       "      <th>feature_18</th>\n",
       "      <th>feature_19</th>\n",
       "      <th>feature_20</th>\n",
       "      <th>feature_21</th>\n",
       "      <th>feature_22</th>\n",
       "      <th>feature_23</th>\n",
       "      <th>feature_24</th>\n",
       "      <th>feature_25</th>\n",
       "      <th>feature_26</th>\n",
       "      <th>feature_27</th>\n",
       "      <th>feature_28</th>\n",
       "      <th>feature_29</th>\n",
       "      <th>feature_30</th>\n",
       "      <th>feature_31</th>\n",
       "      <th>feature_32</th>\n",
       "      <th>feature_33</th>\n",
       "      <th>feature_34</th>\n",
       "      <th>feature_35</th>\n",
       "      <th>feature_36</th>\n",
       "      <th>feature_37</th>\n",
       "      <th>feature_38</th>\n",
       "      <th>feature_39</th>\n",
       "      <th>feature_40</th>\n",
       "      <th>feature_41</th>\n",
       "      <th>feature_42</th>\n",
       "      <th>feature_43</th>\n",
       "      <th>feature_44</th>\n",
       "      <th>feature_45</th>\n",
       "      <th>feature_46</th>\n",
       "      <th>feature_47</th>\n",
       "      <th>feature_48</th>\n",
       "      <th>feature_49</th>\n",
       "      <th>feature_50</th>\n",
       "      <th>feature_51</th>\n",
       "      <th>feature_52</th>\n",
       "      <th>feature_53</th>\n",
       "      <th>feature_54</th>\n",
       "      <th>feature_55</th>\n",
       "      <th>feature_56</th>\n",
       "      <th>feature_57</th>\n",
       "      <th>feature_58</th>\n",
       "    </tr>\n",
       "  </thead>\n",
       "  <tbody>\n",
       "    <tr>\n",
       "      <th>count</th>\n",
       "      <td>352800.000000</td>\n",
       "      <td>352800.000000</td>\n",
       "      <td>352800.000000</td>\n",
       "      <td>352800.000000</td>\n",
       "      <td>352800.000000</td>\n",
       "      <td>352800.000000</td>\n",
       "      <td>352800.000000</td>\n",
       "      <td>352800.000000</td>\n",
       "      <td>352800.000000</td>\n",
       "      <td>352800.000000</td>\n",
       "      <td>352800.000000</td>\n",
       "      <td>352800.000000</td>\n",
       "      <td>352800.000000</td>\n",
       "      <td>352800.000000</td>\n",
       "      <td>352800.000000</td>\n",
       "      <td>352800.000000</td>\n",
       "      <td>352800.000000</td>\n",
       "      <td>352800.000000</td>\n",
       "      <td>352800.000000</td>\n",
       "      <td>352800.000000</td>\n",
       "      <td>352800.00000</td>\n",
       "      <td>352800.000000</td>\n",
       "      <td>352800.000000</td>\n",
       "      <td>352800.000000</td>\n",
       "      <td>352800.000000</td>\n",
       "      <td>352800.000000</td>\n",
       "      <td>352800.000000</td>\n",
       "      <td>352800.000000</td>\n",
       "      <td>352800.000000</td>\n",
       "      <td>352800.000000</td>\n",
       "      <td>352800.000000</td>\n",
       "      <td>352800.000000</td>\n",
       "      <td>352800.000000</td>\n",
       "      <td>352800.000000</td>\n",
       "      <td>352800.000000</td>\n",
       "      <td>352800.000000</td>\n",
       "      <td>352800.000000</td>\n",
       "      <td>352800.000000</td>\n",
       "      <td>352800.000000</td>\n",
       "      <td>352800.000000</td>\n",
       "      <td>352800.000000</td>\n",
       "      <td>352800.000000</td>\n",
       "      <td>352800.000000</td>\n",
       "      <td>352800.000000</td>\n",
       "      <td>352800.000000</td>\n",
       "      <td>352800.000000</td>\n",
       "      <td>352800.000000</td>\n",
       "      <td>352800.000000</td>\n",
       "      <td>352800.000000</td>\n",
       "      <td>352800.000000</td>\n",
       "      <td>352800.000000</td>\n",
       "      <td>352800.000000</td>\n",
       "      <td>352800.000000</td>\n",
       "      <td>352800.000000</td>\n",
       "      <td>352800.000000</td>\n",
       "      <td>352800.000000</td>\n",
       "      <td>352800.000000</td>\n",
       "      <td>352800.000000</td>\n",
       "    </tr>\n",
       "    <tr>\n",
       "      <th>mean</th>\n",
       "      <td>11.218666</td>\n",
       "      <td>12.331067</td>\n",
       "      <td>11.340795</td>\n",
       "      <td>25.438739</td>\n",
       "      <td>0.312465</td>\n",
       "      <td>2.181972</td>\n",
       "      <td>23.224096</td>\n",
       "      <td>-46.283825</td>\n",
       "      <td>7.904285</td>\n",
       "      <td>0.269675</td>\n",
       "      <td>18.974630</td>\n",
       "      <td>-0.030099</td>\n",
       "      <td>34.284024</td>\n",
       "      <td>-75.841003</td>\n",
       "      <td>17.021505</td>\n",
       "      <td>-10.160639</td>\n",
       "      <td>16.487318</td>\n",
       "      <td>3.260236</td>\n",
       "      <td>-12.343252</td>\n",
       "      <td>-0.476126</td>\n",
       "      <td>3.99967</td>\n",
       "      <td>4.529936</td>\n",
       "      <td>1.943849</td>\n",
       "      <td>5.241765</td>\n",
       "      <td>-4.202722</td>\n",
       "      <td>13.804530</td>\n",
       "      <td>12.942814</td>\n",
       "      <td>51.504900</td>\n",
       "      <td>3.086855</td>\n",
       "      <td>0.481405</td>\n",
       "      <td>3.700055</td>\n",
       "      <td>3.675973</td>\n",
       "      <td>12.470633</td>\n",
       "      <td>94.027738</td>\n",
       "      <td>-40.149500</td>\n",
       "      <td>3.567220</td>\n",
       "      <td>13.387436</td>\n",
       "      <td>58.203872</td>\n",
       "      <td>-6.125712</td>\n",
       "      <td>-16.375805</td>\n",
       "      <td>-16.263338</td>\n",
       "      <td>1.010757</td>\n",
       "      <td>33.451323</td>\n",
       "      <td>0.873964</td>\n",
       "      <td>10.856588</td>\n",
       "      <td>-22.387119</td>\n",
       "      <td>0.180783</td>\n",
       "      <td>4.154676</td>\n",
       "      <td>20.613756</td>\n",
       "      <td>2.984242</td>\n",
       "      <td>14.680949</td>\n",
       "      <td>24.084334</td>\n",
       "      <td>-19.232122</td>\n",
       "      <td>16.348955</td>\n",
       "      <td>-25.808135</td>\n",
       "      <td>26.144721</td>\n",
       "      <td>38.316364</td>\n",
       "      <td>-36.988614</td>\n",
       "    </tr>\n",
       "    <tr>\n",
       "      <th>std</th>\n",
       "      <td>95.518421</td>\n",
       "      <td>0.754774</td>\n",
       "      <td>1.597425</td>\n",
       "      <td>19.772059</td>\n",
       "      <td>0.511786</td>\n",
       "      <td>0.724024</td>\n",
       "      <td>0.812147</td>\n",
       "      <td>18.714932</td>\n",
       "      <td>1.240621</td>\n",
       "      <td>0.416775</td>\n",
       "      <td>46.486018</td>\n",
       "      <td>55.250512</td>\n",
       "      <td>46.052362</td>\n",
       "      <td>34.642211</td>\n",
       "      <td>1.488022</td>\n",
       "      <td>6.723245</td>\n",
       "      <td>1.610508</td>\n",
       "      <td>1.480036</td>\n",
       "      <td>46.571966</td>\n",
       "      <td>16.220748</td>\n",
       "      <td>1.89030</td>\n",
       "      <td>1.599890</td>\n",
       "      <td>0.763783</td>\n",
       "      <td>1.817966</td>\n",
       "      <td>28.887549</td>\n",
       "      <td>1.977044</td>\n",
       "      <td>2.224280</td>\n",
       "      <td>8.308043</td>\n",
       "      <td>1.489901</td>\n",
       "      <td>0.629928</td>\n",
       "      <td>0.940998</td>\n",
       "      <td>1.408495</td>\n",
       "      <td>9.020512</td>\n",
       "      <td>31.416689</td>\n",
       "      <td>25.345590</td>\n",
       "      <td>1.581933</td>\n",
       "      <td>734.804758</td>\n",
       "      <td>44.796065</td>\n",
       "      <td>14.142934</td>\n",
       "      <td>16.955350</td>\n",
       "      <td>48.029444</td>\n",
       "      <td>2.904494</td>\n",
       "      <td>8.666380</td>\n",
       "      <td>0.738722</td>\n",
       "      <td>0.962542</td>\n",
       "      <td>33.602121</td>\n",
       "      <td>0.365954</td>\n",
       "      <td>1.592644</td>\n",
       "      <td>6.058146</td>\n",
       "      <td>1.056670</td>\n",
       "      <td>2.168953</td>\n",
       "      <td>28.201979</td>\n",
       "      <td>45.252148</td>\n",
       "      <td>42.860779</td>\n",
       "      <td>22.278909</td>\n",
       "      <td>8.089518</td>\n",
       "      <td>5.774943</td>\n",
       "      <td>14.255068</td>\n",
       "    </tr>\n",
       "    <tr>\n",
       "      <th>min</th>\n",
       "      <td>-480.088690</td>\n",
       "      <td>7.000000</td>\n",
       "      <td>3.000000</td>\n",
       "      <td>-72.310070</td>\n",
       "      <td>0.000000</td>\n",
       "      <td>0.000000</td>\n",
       "      <td>17.000000</td>\n",
       "      <td>-138.181159</td>\n",
       "      <td>1.000000</td>\n",
       "      <td>0.000000</td>\n",
       "      <td>-209.150651</td>\n",
       "      <td>-99.999949</td>\n",
       "      <td>-189.175571</td>\n",
       "      <td>-227.478011</td>\n",
       "      <td>8.000000</td>\n",
       "      <td>-42.982325</td>\n",
       "      <td>7.000000</td>\n",
       "      <td>0.000000</td>\n",
       "      <td>-219.210290</td>\n",
       "      <td>-83.560468</td>\n",
       "      <td>0.00000</td>\n",
       "      <td>0.000000</td>\n",
       "      <td>0.000000</td>\n",
       "      <td>0.000000</td>\n",
       "      <td>-144.661698</td>\n",
       "      <td>3.000000</td>\n",
       "      <td>2.000000</td>\n",
       "      <td>11.736310</td>\n",
       "      <td>0.000000</td>\n",
       "      <td>0.000000</td>\n",
       "      <td>0.000000</td>\n",
       "      <td>0.000000</td>\n",
       "      <td>-29.262014</td>\n",
       "      <td>-67.543979</td>\n",
       "      <td>-169.554805</td>\n",
       "      <td>0.000000</td>\n",
       "      <td>0.001178</td>\n",
       "      <td>-182.790369</td>\n",
       "      <td>-77.903990</td>\n",
       "      <td>-94.393365</td>\n",
       "      <td>-242.464534</td>\n",
       "      <td>-13.102334</td>\n",
       "      <td>-3.727775</td>\n",
       "      <td>0.000000</td>\n",
       "      <td>5.000000</td>\n",
       "      <td>-168.324702</td>\n",
       "      <td>0.000000</td>\n",
       "      <td>0.000000</td>\n",
       "      <td>-7.935290</td>\n",
       "      <td>0.000000</td>\n",
       "      <td>4.000000</td>\n",
       "      <td>-115.421307</td>\n",
       "      <td>-246.217734</td>\n",
       "      <td>-194.735471</td>\n",
       "      <td>-136.146509</td>\n",
       "      <td>-11.859427</td>\n",
       "      <td>12.499899</td>\n",
       "      <td>-112.352665</td>\n",
       "    </tr>\n",
       "    <tr>\n",
       "      <th>25%</th>\n",
       "      <td>-48.700883</td>\n",
       "      <td>12.000000</td>\n",
       "      <td>10.000000</td>\n",
       "      <td>12.959472</td>\n",
       "      <td>0.000000</td>\n",
       "      <td>2.000000</td>\n",
       "      <td>23.000000</td>\n",
       "      <td>-57.754115</td>\n",
       "      <td>7.000000</td>\n",
       "      <td>0.000000</td>\n",
       "      <td>-9.335972</td>\n",
       "      <td>-45.353734</td>\n",
       "      <td>5.832697</td>\n",
       "      <td>-97.674086</td>\n",
       "      <td>16.000000</td>\n",
       "      <td>-14.389007</td>\n",
       "      <td>16.000000</td>\n",
       "      <td>2.000000</td>\n",
       "      <td>-42.598005</td>\n",
       "      <td>-10.792038</td>\n",
       "      <td>3.00000</td>\n",
       "      <td>3.000000</td>\n",
       "      <td>1.943849</td>\n",
       "      <td>4.000000</td>\n",
       "      <td>-22.148190</td>\n",
       "      <td>13.000000</td>\n",
       "      <td>12.000000</td>\n",
       "      <td>46.335308</td>\n",
       "      <td>2.000000</td>\n",
       "      <td>0.000000</td>\n",
       "      <td>3.000000</td>\n",
       "      <td>3.000000</td>\n",
       "      <td>6.847078</td>\n",
       "      <td>74.364977</td>\n",
       "      <td>-55.739020</td>\n",
       "      <td>3.000000</td>\n",
       "      <td>0.585064</td>\n",
       "      <td>30.273935</td>\n",
       "      <td>-14.964893</td>\n",
       "      <td>-26.634927</td>\n",
       "      <td>-46.991943</td>\n",
       "      <td>-0.850878</td>\n",
       "      <td>27.981777</td>\n",
       "      <td>0.000000</td>\n",
       "      <td>10.000000</td>\n",
       "      <td>-43.520026</td>\n",
       "      <td>0.000000</td>\n",
       "      <td>3.000000</td>\n",
       "      <td>16.891812</td>\n",
       "      <td>2.000000</td>\n",
       "      <td>13.000000</td>\n",
       "      <td>6.003904</td>\n",
       "      <td>-47.525979</td>\n",
       "      <td>-10.410130</td>\n",
       "      <td>-39.536018</td>\n",
       "      <td>21.108306</td>\n",
       "      <td>34.631862</td>\n",
       "      <td>-45.575036</td>\n",
       "    </tr>\n",
       "    <tr>\n",
       "      <th>50%</th>\n",
       "      <td>11.218666</td>\n",
       "      <td>12.331067</td>\n",
       "      <td>11.340795</td>\n",
       "      <td>25.438739</td>\n",
       "      <td>0.000000</td>\n",
       "      <td>2.000000</td>\n",
       "      <td>23.224096</td>\n",
       "      <td>-46.283825</td>\n",
       "      <td>8.000000</td>\n",
       "      <td>0.000000</td>\n",
       "      <td>18.974630</td>\n",
       "      <td>-0.030099</td>\n",
       "      <td>34.284024</td>\n",
       "      <td>-75.841003</td>\n",
       "      <td>17.000000</td>\n",
       "      <td>-10.160639</td>\n",
       "      <td>16.487318</td>\n",
       "      <td>3.000000</td>\n",
       "      <td>-12.343252</td>\n",
       "      <td>-0.476126</td>\n",
       "      <td>4.00000</td>\n",
       "      <td>4.529936</td>\n",
       "      <td>2.000000</td>\n",
       "      <td>5.000000</td>\n",
       "      <td>-4.202722</td>\n",
       "      <td>14.000000</td>\n",
       "      <td>13.000000</td>\n",
       "      <td>51.504900</td>\n",
       "      <td>3.000000</td>\n",
       "      <td>0.000000</td>\n",
       "      <td>4.000000</td>\n",
       "      <td>3.675973</td>\n",
       "      <td>12.470633</td>\n",
       "      <td>94.027738</td>\n",
       "      <td>-40.149500</td>\n",
       "      <td>3.567220</td>\n",
       "      <td>1.443612</td>\n",
       "      <td>58.203872</td>\n",
       "      <td>-6.125712</td>\n",
       "      <td>-16.375805</td>\n",
       "      <td>-16.263338</td>\n",
       "      <td>1.010757</td>\n",
       "      <td>33.451323</td>\n",
       "      <td>1.000000</td>\n",
       "      <td>11.000000</td>\n",
       "      <td>-22.387119</td>\n",
       "      <td>0.000000</td>\n",
       "      <td>4.000000</td>\n",
       "      <td>20.613756</td>\n",
       "      <td>3.000000</td>\n",
       "      <td>14.680949</td>\n",
       "      <td>24.084334</td>\n",
       "      <td>-19.232122</td>\n",
       "      <td>16.348955</td>\n",
       "      <td>-25.808135</td>\n",
       "      <td>26.144721</td>\n",
       "      <td>38.316364</td>\n",
       "      <td>-36.988614</td>\n",
       "    </tr>\n",
       "    <tr>\n",
       "      <th>75%</th>\n",
       "      <td>71.341411</td>\n",
       "      <td>13.000000</td>\n",
       "      <td>12.000000</td>\n",
       "      <td>37.974037</td>\n",
       "      <td>1.000000</td>\n",
       "      <td>3.000000</td>\n",
       "      <td>24.000000</td>\n",
       "      <td>-34.843360</td>\n",
       "      <td>9.000000</td>\n",
       "      <td>0.269675</td>\n",
       "      <td>47.246796</td>\n",
       "      <td>45.314238</td>\n",
       "      <td>62.525314</td>\n",
       "      <td>-54.097700</td>\n",
       "      <td>18.000000</td>\n",
       "      <td>-5.937035</td>\n",
       "      <td>18.000000</td>\n",
       "      <td>4.000000</td>\n",
       "      <td>18.028374</td>\n",
       "      <td>9.788582</td>\n",
       "      <td>5.00000</td>\n",
       "      <td>6.000000</td>\n",
       "      <td>2.000000</td>\n",
       "      <td>6.000000</td>\n",
       "      <td>13.675506</td>\n",
       "      <td>15.000000</td>\n",
       "      <td>14.000000</td>\n",
       "      <td>56.670673</td>\n",
       "      <td>4.000000</td>\n",
       "      <td>1.000000</td>\n",
       "      <td>4.000000</td>\n",
       "      <td>5.000000</td>\n",
       "      <td>18.095006</td>\n",
       "      <td>113.615884</td>\n",
       "      <td>-24.514922</td>\n",
       "      <td>4.000000</td>\n",
       "      <td>4.620825</td>\n",
       "      <td>86.074763</td>\n",
       "      <td>2.710496</td>\n",
       "      <td>-6.106595</td>\n",
       "      <td>14.427280</td>\n",
       "      <td>2.879383</td>\n",
       "      <td>38.898886</td>\n",
       "      <td>1.000000</td>\n",
       "      <td>12.000000</td>\n",
       "      <td>-1.242799</td>\n",
       "      <td>0.180783</td>\n",
       "      <td>5.000000</td>\n",
       "      <td>24.360423</td>\n",
       "      <td>4.000000</td>\n",
       "      <td>16.000000</td>\n",
       "      <td>42.211522</td>\n",
       "      <td>9.099923</td>\n",
       "      <td>43.098329</td>\n",
       "      <td>-12.148330</td>\n",
       "      <td>31.194699</td>\n",
       "      <td>42.016246</td>\n",
       "      <td>-28.350676</td>\n",
       "    </tr>\n",
       "    <tr>\n",
       "      <th>max</th>\n",
       "      <td>449.714046</td>\n",
       "      <td>13.000000</td>\n",
       "      <td>15.000000</td>\n",
       "      <td>114.421808</td>\n",
       "      <td>4.000000</td>\n",
       "      <td>3.000000</td>\n",
       "      <td>24.000000</td>\n",
       "      <td>55.334255</td>\n",
       "      <td>10.000000</td>\n",
       "      <td>1.000000</td>\n",
       "      <td>264.842318</td>\n",
       "      <td>99.998918</td>\n",
       "      <td>276.215654</td>\n",
       "      <td>86.468437</td>\n",
       "      <td>20.000000</td>\n",
       "      <td>24.970048</td>\n",
       "      <td>20.000000</td>\n",
       "      <td>12.000000</td>\n",
       "      <td>224.043011</td>\n",
       "      <td>75.169425</td>\n",
       "      <td>19.00000</td>\n",
       "      <td>12.000000</td>\n",
       "      <td>3.000000</td>\n",
       "      <td>15.000000</td>\n",
       "      <td>143.872722</td>\n",
       "      <td>20.000000</td>\n",
       "      <td>22.000000</td>\n",
       "      <td>90.704267</td>\n",
       "      <td>12.000000</td>\n",
       "      <td>5.000000</td>\n",
       "      <td>5.000000</td>\n",
       "      <td>9.000000</td>\n",
       "      <td>54.680337</td>\n",
       "      <td>237.981408</td>\n",
       "      <td>88.366628</td>\n",
       "      <td>13.000000</td>\n",
       "      <td>249906.149688</td>\n",
       "      <td>284.404702</td>\n",
       "      <td>66.255814</td>\n",
       "      <td>66.436090</td>\n",
       "      <td>194.646804</td>\n",
       "      <td>15.864662</td>\n",
       "      <td>76.239854</td>\n",
       "      <td>3.000000</td>\n",
       "      <td>12.000000</td>\n",
       "      <td>132.428593</td>\n",
       "      <td>1.000000</td>\n",
       "      <td>13.000000</td>\n",
       "      <td>49.025399</td>\n",
       "      <td>5.000000</td>\n",
       "      <td>23.000000</td>\n",
       "      <td>158.121939</td>\n",
       "      <td>209.925962</td>\n",
       "      <td>204.539909</td>\n",
       "      <td>75.095111</td>\n",
       "      <td>64.068812</td>\n",
       "      <td>69.557056</td>\n",
       "      <td>41.368872</td>\n",
       "    </tr>\n",
       "  </tbody>\n",
       "</table>\n",
       "</div>"
      ],
      "text/plain": [
       "           feature_1      feature_2      feature_3      feature_4  \\\n",
       "count  352800.000000  352800.000000  352800.000000  352800.000000   \n",
       "mean       11.218666      12.331067      11.340795      25.438739   \n",
       "std        95.518421       0.754774       1.597425      19.772059   \n",
       "min      -480.088690       7.000000       3.000000     -72.310070   \n",
       "25%       -48.700883      12.000000      10.000000      12.959472   \n",
       "50%        11.218666      12.331067      11.340795      25.438739   \n",
       "75%        71.341411      13.000000      12.000000      37.974037   \n",
       "max       449.714046      13.000000      15.000000     114.421808   \n",
       "\n",
       "           feature_5      feature_6      feature_7      feature_8  \\\n",
       "count  352800.000000  352800.000000  352800.000000  352800.000000   \n",
       "mean        0.312465       2.181972      23.224096     -46.283825   \n",
       "std         0.511786       0.724024       0.812147      18.714932   \n",
       "min         0.000000       0.000000      17.000000    -138.181159   \n",
       "25%         0.000000       2.000000      23.000000     -57.754115   \n",
       "50%         0.000000       2.000000      23.224096     -46.283825   \n",
       "75%         1.000000       3.000000      24.000000     -34.843360   \n",
       "max         4.000000       3.000000      24.000000      55.334255   \n",
       "\n",
       "           feature_9     feature_10     feature_11     feature_12  \\\n",
       "count  352800.000000  352800.000000  352800.000000  352800.000000   \n",
       "mean        7.904285       0.269675      18.974630      -0.030099   \n",
       "std         1.240621       0.416775      46.486018      55.250512   \n",
       "min         1.000000       0.000000    -209.150651     -99.999949   \n",
       "25%         7.000000       0.000000      -9.335972     -45.353734   \n",
       "50%         8.000000       0.000000      18.974630      -0.030099   \n",
       "75%         9.000000       0.269675      47.246796      45.314238   \n",
       "max        10.000000       1.000000     264.842318      99.998918   \n",
       "\n",
       "          feature_13     feature_14     feature_15     feature_16  \\\n",
       "count  352800.000000  352800.000000  352800.000000  352800.000000   \n",
       "mean       34.284024     -75.841003      17.021505     -10.160639   \n",
       "std        46.052362      34.642211       1.488022       6.723245   \n",
       "min      -189.175571    -227.478011       8.000000     -42.982325   \n",
       "25%         5.832697     -97.674086      16.000000     -14.389007   \n",
       "50%        34.284024     -75.841003      17.000000     -10.160639   \n",
       "75%        62.525314     -54.097700      18.000000      -5.937035   \n",
       "max       276.215654      86.468437      20.000000      24.970048   \n",
       "\n",
       "          feature_17     feature_18     feature_19     feature_20  \\\n",
       "count  352800.000000  352800.000000  352800.000000  352800.000000   \n",
       "mean       16.487318       3.260236     -12.343252      -0.476126   \n",
       "std         1.610508       1.480036      46.571966      16.220748   \n",
       "min         7.000000       0.000000    -219.210290     -83.560468   \n",
       "25%        16.000000       2.000000     -42.598005     -10.792038   \n",
       "50%        16.487318       3.000000     -12.343252      -0.476126   \n",
       "75%        18.000000       4.000000      18.028374       9.788582   \n",
       "max        20.000000      12.000000     224.043011      75.169425   \n",
       "\n",
       "         feature_21     feature_22     feature_23     feature_24  \\\n",
       "count  352800.00000  352800.000000  352800.000000  352800.000000   \n",
       "mean        3.99967       4.529936       1.943849       5.241765   \n",
       "std         1.89030       1.599890       0.763783       1.817966   \n",
       "min         0.00000       0.000000       0.000000       0.000000   \n",
       "25%         3.00000       3.000000       1.943849       4.000000   \n",
       "50%         4.00000       4.529936       2.000000       5.000000   \n",
       "75%         5.00000       6.000000       2.000000       6.000000   \n",
       "max        19.00000      12.000000       3.000000      15.000000   \n",
       "\n",
       "          feature_25     feature_26     feature_27     feature_28  \\\n",
       "count  352800.000000  352800.000000  352800.000000  352800.000000   \n",
       "mean       -4.202722      13.804530      12.942814      51.504900   \n",
       "std        28.887549       1.977044       2.224280       8.308043   \n",
       "min      -144.661698       3.000000       2.000000      11.736310   \n",
       "25%       -22.148190      13.000000      12.000000      46.335308   \n",
       "50%        -4.202722      14.000000      13.000000      51.504900   \n",
       "75%        13.675506      15.000000      14.000000      56.670673   \n",
       "max       143.872722      20.000000      22.000000      90.704267   \n",
       "\n",
       "          feature_29     feature_30     feature_31     feature_32  \\\n",
       "count  352800.000000  352800.000000  352800.000000  352800.000000   \n",
       "mean        3.086855       0.481405       3.700055       3.675973   \n",
       "std         1.489901       0.629928       0.940998       1.408495   \n",
       "min         0.000000       0.000000       0.000000       0.000000   \n",
       "25%         2.000000       0.000000       3.000000       3.000000   \n",
       "50%         3.000000       0.000000       4.000000       3.675973   \n",
       "75%         4.000000       1.000000       4.000000       5.000000   \n",
       "max        12.000000       5.000000       5.000000       9.000000   \n",
       "\n",
       "          feature_33     feature_34     feature_35     feature_36  \\\n",
       "count  352800.000000  352800.000000  352800.000000  352800.000000   \n",
       "mean       12.470633      94.027738     -40.149500       3.567220   \n",
       "std         9.020512      31.416689      25.345590       1.581933   \n",
       "min       -29.262014     -67.543979    -169.554805       0.000000   \n",
       "25%         6.847078      74.364977     -55.739020       3.000000   \n",
       "50%        12.470633      94.027738     -40.149500       3.567220   \n",
       "75%        18.095006     113.615884     -24.514922       4.000000   \n",
       "max        54.680337     237.981408      88.366628      13.000000   \n",
       "\n",
       "          feature_37     feature_38     feature_39     feature_40  \\\n",
       "count  352800.000000  352800.000000  352800.000000  352800.000000   \n",
       "mean       13.387436      58.203872      -6.125712     -16.375805   \n",
       "std       734.804758      44.796065      14.142934      16.955350   \n",
       "min         0.001178    -182.790369     -77.903990     -94.393365   \n",
       "25%         0.585064      30.273935     -14.964893     -26.634927   \n",
       "50%         1.443612      58.203872      -6.125712     -16.375805   \n",
       "75%         4.620825      86.074763       2.710496      -6.106595   \n",
       "max    249906.149688     284.404702      66.255814      66.436090   \n",
       "\n",
       "          feature_41     feature_42     feature_43     feature_44  \\\n",
       "count  352800.000000  352800.000000  352800.000000  352800.000000   \n",
       "mean      -16.263338       1.010757      33.451323       0.873964   \n",
       "std        48.029444       2.904494       8.666380       0.738722   \n",
       "min      -242.464534     -13.102334      -3.727775       0.000000   \n",
       "25%       -46.991943      -0.850878      27.981777       0.000000   \n",
       "50%       -16.263338       1.010757      33.451323       1.000000   \n",
       "75%        14.427280       2.879383      38.898886       1.000000   \n",
       "max       194.646804      15.864662      76.239854       3.000000   \n",
       "\n",
       "          feature_45     feature_46     feature_47     feature_48  \\\n",
       "count  352800.000000  352800.000000  352800.000000  352800.000000   \n",
       "mean       10.856588     -22.387119       0.180783       4.154676   \n",
       "std         0.962542      33.602121       0.365954       1.592644   \n",
       "min         5.000000    -168.324702       0.000000       0.000000   \n",
       "25%        10.000000     -43.520026       0.000000       3.000000   \n",
       "50%        11.000000     -22.387119       0.000000       4.000000   \n",
       "75%        12.000000      -1.242799       0.180783       5.000000   \n",
       "max        12.000000     132.428593       1.000000      13.000000   \n",
       "\n",
       "          feature_49     feature_50     feature_51     feature_52  \\\n",
       "count  352800.000000  352800.000000  352800.000000  352800.000000   \n",
       "mean       20.613756       2.984242      14.680949      24.084334   \n",
       "std         6.058146       1.056670       2.168953      28.201979   \n",
       "min        -7.935290       0.000000       4.000000    -115.421307   \n",
       "25%        16.891812       2.000000      13.000000       6.003904   \n",
       "50%        20.613756       3.000000      14.680949      24.084334   \n",
       "75%        24.360423       4.000000      16.000000      42.211522   \n",
       "max        49.025399       5.000000      23.000000     158.121939   \n",
       "\n",
       "          feature_53     feature_54     feature_55     feature_56  \\\n",
       "count  352800.000000  352800.000000  352800.000000  352800.000000   \n",
       "mean      -19.232122      16.348955     -25.808135      26.144721   \n",
       "std        45.252148      42.860779      22.278909       8.089518   \n",
       "min      -246.217734    -194.735471    -136.146509     -11.859427   \n",
       "25%       -47.525979     -10.410130     -39.536018      21.108306   \n",
       "50%       -19.232122      16.348955     -25.808135      26.144721   \n",
       "75%         9.099923      43.098329     -12.148330      31.194699   \n",
       "max       209.925962     204.539909      75.095111      64.068812   \n",
       "\n",
       "          feature_57     feature_58  \n",
       "count  352800.000000  352800.000000  \n",
       "mean       38.316364     -36.988614  \n",
       "std         5.774943      14.255068  \n",
       "min        12.499899    -112.352665  \n",
       "25%        34.631862     -45.575036  \n",
       "50%        38.316364     -36.988614  \n",
       "75%        42.016246     -28.350676  \n",
       "max        69.557056      41.368872  "
      ]
     },
     "execution_count": 265,
     "metadata": {},
     "output_type": "execute_result"
    }
   ],
   "source": [
    "\n",
    "X_train.describe()"
   ]
  },
  {
   "cell_type": "markdown",
   "metadata": {},
   "source": [
    "#### Никакой коррляциия как между данными так и между целевой перменной нет"
   ]
  },
  {
   "cell_type": "code",
   "execution_count": 273,
   "metadata": {},
   "outputs": [
    {
     "data": {
      "text/html": [
       "<div>\n",
       "<style scoped>\n",
       "    .dataframe tbody tr th:only-of-type {\n",
       "        vertical-align: middle;\n",
       "    }\n",
       "\n",
       "    .dataframe tbody tr th {\n",
       "        vertical-align: top;\n",
       "    }\n",
       "\n",
       "    .dataframe thead th {\n",
       "        text-align: right;\n",
       "    }\n",
       "</style>\n",
       "<table border=\"1\" class=\"dataframe\">\n",
       "  <thead>\n",
       "    <tr style=\"text-align: right;\">\n",
       "      <th></th>\n",
       "      <th>level_0</th>\n",
       "      <th>level_1</th>\n",
       "      <th>0</th>\n",
       "    </tr>\n",
       "  </thead>\n",
       "  <tbody>\n",
       "    <tr>\n",
       "      <th>3392</th>\n",
       "      <td>feature_36</td>\n",
       "      <td>feature_26</td>\n",
       "      <td>0.004461</td>\n",
       "    </tr>\n",
       "    <tr>\n",
       "      <th>3393</th>\n",
       "      <td>feature_26</td>\n",
       "      <td>feature_36</td>\n",
       "      <td>0.004461</td>\n",
       "    </tr>\n",
       "    <tr>\n",
       "      <th>3394</th>\n",
       "      <td>feature_48</td>\n",
       "      <td>feature_43</td>\n",
       "      <td>0.004463</td>\n",
       "    </tr>\n",
       "    <tr>\n",
       "      <th>3395</th>\n",
       "      <td>feature_43</td>\n",
       "      <td>feature_48</td>\n",
       "      <td>0.004463</td>\n",
       "    </tr>\n",
       "    <tr>\n",
       "      <th>3396</th>\n",
       "      <td>y_train</td>\n",
       "      <td>feature_19</td>\n",
       "      <td>0.004470</td>\n",
       "    </tr>\n",
       "    <tr>\n",
       "      <th>3397</th>\n",
       "      <td>feature_19</td>\n",
       "      <td>y_train</td>\n",
       "      <td>0.004470</td>\n",
       "    </tr>\n",
       "    <tr>\n",
       "      <th>3398</th>\n",
       "      <td>feature_3</td>\n",
       "      <td>feature_11</td>\n",
       "      <td>0.004635</td>\n",
       "    </tr>\n",
       "    <tr>\n",
       "      <th>3399</th>\n",
       "      <td>feature_11</td>\n",
       "      <td>feature_3</td>\n",
       "      <td>0.004635</td>\n",
       "    </tr>\n",
       "    <tr>\n",
       "      <th>3400</th>\n",
       "      <td>feature_55</td>\n",
       "      <td>feature_19</td>\n",
       "      <td>0.004711</td>\n",
       "    </tr>\n",
       "    <tr>\n",
       "      <th>3401</th>\n",
       "      <td>feature_19</td>\n",
       "      <td>feature_55</td>\n",
       "      <td>0.004711</td>\n",
       "    </tr>\n",
       "    <tr>\n",
       "      <th>3402</th>\n",
       "      <td>feature_30</td>\n",
       "      <td>feature_41</td>\n",
       "      <td>0.004726</td>\n",
       "    </tr>\n",
       "    <tr>\n",
       "      <th>3403</th>\n",
       "      <td>feature_41</td>\n",
       "      <td>feature_30</td>\n",
       "      <td>0.004726</td>\n",
       "    </tr>\n",
       "    <tr>\n",
       "      <th>3404</th>\n",
       "      <td>feature_4</td>\n",
       "      <td>feature_21</td>\n",
       "      <td>0.004859</td>\n",
       "    </tr>\n",
       "    <tr>\n",
       "      <th>3405</th>\n",
       "      <td>feature_21</td>\n",
       "      <td>feature_4</td>\n",
       "      <td>0.004859</td>\n",
       "    </tr>\n",
       "    <tr>\n",
       "      <th>3406</th>\n",
       "      <td>feature_20</td>\n",
       "      <td>feature_39</td>\n",
       "      <td>0.004895</td>\n",
       "    </tr>\n",
       "    <tr>\n",
       "      <th>3407</th>\n",
       "      <td>feature_39</td>\n",
       "      <td>feature_20</td>\n",
       "      <td>0.004895</td>\n",
       "    </tr>\n",
       "    <tr>\n",
       "      <th>3408</th>\n",
       "      <td>feature_7</td>\n",
       "      <td>feature_35</td>\n",
       "      <td>0.004920</td>\n",
       "    </tr>\n",
       "    <tr>\n",
       "      <th>3409</th>\n",
       "      <td>feature_35</td>\n",
       "      <td>feature_7</td>\n",
       "      <td>0.004920</td>\n",
       "    </tr>\n",
       "    <tr>\n",
       "      <th>3410</th>\n",
       "      <td>feature_9</td>\n",
       "      <td>feature_12</td>\n",
       "      <td>0.004923</td>\n",
       "    </tr>\n",
       "    <tr>\n",
       "      <th>3411</th>\n",
       "      <td>feature_12</td>\n",
       "      <td>feature_9</td>\n",
       "      <td>0.004923</td>\n",
       "    </tr>\n",
       "    <tr>\n",
       "      <th>3412</th>\n",
       "      <td>feature_25</td>\n",
       "      <td>feature_9</td>\n",
       "      <td>0.004986</td>\n",
       "    </tr>\n",
       "    <tr>\n",
       "      <th>3413</th>\n",
       "      <td>feature_9</td>\n",
       "      <td>feature_25</td>\n",
       "      <td>0.004986</td>\n",
       "    </tr>\n",
       "    <tr>\n",
       "      <th>3414</th>\n",
       "      <td>feature_34</td>\n",
       "      <td>feature_58</td>\n",
       "      <td>0.004990</td>\n",
       "    </tr>\n",
       "    <tr>\n",
       "      <th>3415</th>\n",
       "      <td>feature_58</td>\n",
       "      <td>feature_34</td>\n",
       "      <td>0.004990</td>\n",
       "    </tr>\n",
       "    <tr>\n",
       "      <th>3416</th>\n",
       "      <td>feature_22</td>\n",
       "      <td>feature_3</td>\n",
       "      <td>0.005063</td>\n",
       "    </tr>\n",
       "    <tr>\n",
       "      <th>3417</th>\n",
       "      <td>feature_3</td>\n",
       "      <td>feature_22</td>\n",
       "      <td>0.005063</td>\n",
       "    </tr>\n",
       "    <tr>\n",
       "      <th>3418</th>\n",
       "      <td>feature_46</td>\n",
       "      <td>feature_23</td>\n",
       "      <td>0.005343</td>\n",
       "    </tr>\n",
       "    <tr>\n",
       "      <th>3419</th>\n",
       "      <td>feature_23</td>\n",
       "      <td>feature_46</td>\n",
       "      <td>0.005343</td>\n",
       "    </tr>\n",
       "    <tr>\n",
       "      <th>3420</th>\n",
       "      <td>feature_1</td>\n",
       "      <td>feature_22</td>\n",
       "      <td>0.005509</td>\n",
       "    </tr>\n",
       "    <tr>\n",
       "      <th>3421</th>\n",
       "      <td>feature_22</td>\n",
       "      <td>feature_1</td>\n",
       "      <td>0.005509</td>\n",
       "    </tr>\n",
       "  </tbody>\n",
       "</table>\n",
       "</div>"
      ],
      "text/plain": [
       "         level_0     level_1         0\n",
       "3392  feature_36  feature_26  0.004461\n",
       "3393  feature_26  feature_36  0.004461\n",
       "3394  feature_48  feature_43  0.004463\n",
       "3395  feature_43  feature_48  0.004463\n",
       "3396     y_train  feature_19  0.004470\n",
       "3397  feature_19     y_train  0.004470\n",
       "3398   feature_3  feature_11  0.004635\n",
       "3399  feature_11   feature_3  0.004635\n",
       "3400  feature_55  feature_19  0.004711\n",
       "3401  feature_19  feature_55  0.004711\n",
       "3402  feature_30  feature_41  0.004726\n",
       "3403  feature_41  feature_30  0.004726\n",
       "3404   feature_4  feature_21  0.004859\n",
       "3405  feature_21   feature_4  0.004859\n",
       "3406  feature_20  feature_39  0.004895\n",
       "3407  feature_39  feature_20  0.004895\n",
       "3408   feature_7  feature_35  0.004920\n",
       "3409  feature_35   feature_7  0.004920\n",
       "3410   feature_9  feature_12  0.004923\n",
       "3411  feature_12   feature_9  0.004923\n",
       "3412  feature_25   feature_9  0.004986\n",
       "3413   feature_9  feature_25  0.004986\n",
       "3414  feature_34  feature_58  0.004990\n",
       "3415  feature_58  feature_34  0.004990\n",
       "3416  feature_22   feature_3  0.005063\n",
       "3417   feature_3  feature_22  0.005063\n",
       "3418  feature_46  feature_23  0.005343\n",
       "3419  feature_23  feature_46  0.005343\n",
       "3420   feature_1  feature_22  0.005509\n",
       "3421  feature_22   feature_1  0.005509"
      ]
     },
     "execution_count": 273,
     "metadata": {},
     "output_type": "execute_result"
    }
   ],
   "source": [
    "corrs = pd.concat([X_train,y_train], axis=1).corr().abs().unstack().sort_values(kind=\"quicksort\").reset_index()\n",
    "corrs = corrs[corrs['level_0'] != corrs['level_1']]\n",
    "corrs.tail(30)"
   ]
  },
  {
   "cell_type": "code",
   "execution_count": null,
   "metadata": {},
   "outputs": [],
   "source": []
  },
  {
   "cell_type": "markdown",
   "metadata": {},
   "source": [
    "#### Посмотрим на боксплоты:"
   ]
  },
  {
   "cell_type": "code",
   "execution_count": 269,
   "metadata": {},
   "outputs": [],
   "source": [
    "def draw_graph(DF,y,columns,graphs_in_raw):    \n",
    "    rows=math.ceil(len(columns)/graphs_in_raw)\n",
    "    f, axarr =plt.subplots(rows,graphs_in_raw,figsize=(24, 24))\n",
    "    count=0\n",
    "    for row in range(rows):\n",
    "        for col in range(graphs_in_raw):\n",
    "            try:\n",
    "                sns.boxplot(x=y, y=DF[columns[count]], data=DF, showmeans=True,ax=axarr[row,col])\n",
    "                axarr[row,col].set_title(columns[count])\n",
    "                count+=1\n",
    "            except:\n",
    "                pass\n",
    "    plt.tight_layout()\n",
    "    plt.show()"
   ]
  },
  {
   "cell_type": "code",
   "execution_count": 271,
   "metadata": {},
   "outputs": [
    {
     "data": {
      "image/png": "[encoded data removed]",
      "text/plain": [
       "<Figure size 1728x1728 with 30 Axes>"
      ]
     },
     "metadata": {
      "needs_background": "light"
     },
     "output_type": "display_data"
    }
   ],
   "source": [
    "#видно например  num_var35,num_var4 должны нелохо делить классы\n",
    "draw_graph(X_train,y_train.iloc[:,0],X_train.columns[:30],5)"
   ]
  },
  {
   "cell_type": "code",
   "execution_count": 272,
   "metadata": {},
   "outputs": [
    {
     "data": {
      "image/png": "[encoded data removed]",
      "text/plain": [
       "<Figure size 1728x1728 with 30 Axes>"
      ]
     },
     "metadata": {
      "needs_background": "light"
     },
     "output_type": "display_data"
    }
   ],
   "source": [
    "draw_graph(X_train,y_train.iloc[:,0],X_train.columns[30:],5)"
   ]
  },
  {
   "cell_type": "code",
   "execution_count": null,
   "metadata": {},
   "outputs": [],
   "source": [
    "* на глаз не видно признаков, которые хорошо разделяли бы классы\n",
    "* зато видно очень много выбросов"
   ]
  },
  {
   "cell_type": "markdown",
   "metadata": {},
   "source": [
    "#### Посмотрим подробнее на ф-ции распределения фичей"
   ]
  },
  {
   "cell_type": "code",
   "execution_count": 279,
   "metadata": {},
   "outputs": [],
   "source": [
    "def plot_feature_distribution(df1, df2, label1, label2, features):\n",
    "    i = 0\n",
    "    sns.set_style('whitegrid')\n",
    "    plt.figure()\n",
    "    fig, ax = plt.subplots(10,6,figsize=(18,22))\n",
    "\n",
    "    for feature in features:\n",
    "        i += 1\n",
    "        plt.subplot(10,6,i)\n",
    "        sns.distplot(df1[feature], hist=False,label=label1)\n",
    "        sns.distplot(df2[feature], hist=False,label=label2)\n",
    "        plt.xlabel(feature, fontsize=9)\n",
    "        locs, labels = plt.xticks()\n",
    "        plt.tick_params(axis='x', which='major', labelsize=6, pad=-6)\n",
    "        plt.tick_params(axis='y', which='major', labelsize=6)\n",
    "    plt.show();"
   ]
  },
  {
   "cell_type": "code",
   "execution_count": 276,
   "metadata": {},
   "outputs": [],
   "source": [
    "X_train_y=pd.concat([X_train,y_train], axis=1)"
   ]
  },
  {
   "cell_type": "code",
   "execution_count": 280,
   "metadata": {},
   "outputs": [
    {
     "data": {
      "text/plain": [
       "<Figure size 432x288 with 0 Axes>"
      ]
     },
     "metadata": {},
     "output_type": "display_data"
    },
    {
     "data": {
      "image/png": "[encoded data removed]",
      "text/plain": [
       "<Figure size 1296x1584 with 60 Axes>"
      ]
     },
     "metadata": {},
     "output_type": "display_data"
    }
   ],
   "source": [
    "t0 = X_train_y.loc[X_train_y.y_train== 0]\n",
    "t1 = X_train_y.loc[X_train_y.y_train == 1]\n",
    "features = train_df.columns.values[2:102]\n",
    "plot_feature_distribution(t0, t1, '0', '1', X_train)"
   ]
  },
  {
   "cell_type": "code",
   "execution_count": null,
   "metadata": {},
   "outputs": [],
   "source": [
    "* почти у всеъ признаков распредление целевой переменой не отличается\n",
    "* многие признаки смещенны или многомодальны\n",
    "* острый наконечник можно объяснить, что Наны средним занимали"
   ]
  },
  {
   "cell_type": "markdown",
   "metadata": {},
   "source": [
    "### Выберем способ масшитаюитрования данных и иетод заполнения пропущенных значений"
   ]
  },
  {
   "cell_type": "markdown",
   "metadata": {},
   "source": [
    "#### Средние"
   ]
  },
  {
   "cell_type": "code",
   "execution_count": 27,
   "metadata": {},
   "outputs": [],
   "source": [
    "X_train=X_train_temp.copy()"
   ]
  },
  {
   "cell_type": "code",
   "execution_count": 28,
   "metadata": {},
   "outputs": [],
   "source": [
    "X_train=X_train.fillna(X_train.mean())\n"
   ]
  },
  {
   "cell_type": "markdown",
   "metadata": {},
   "source": [
    "##### С помощью известной эвристики отбросим выбросы"
   ]
  },
  {
   "cell_type": "code",
   "execution_count": 29,
   "metadata": {},
   "outputs": [],
   "source": [
    "Q1 = X_train.quantile(0.25)\n",
    "Q3 = X_train.quantile(0.75)\n",
    "IQR = Q3 - Q1\n",
    "\n",
    "X_train_withiout_outliers  = X_train[~((X_train < (Q1-1.5 * IQR)) |(X_train > (Q3 + 1.5 * IQR))).any(axis=1)]\n",
    "y_train_withiout_outliers=y_train.loc[X_train_withiout_outliers.index]"
   ]
  },
  {
   "cell_type": "markdown",
   "metadata": {},
   "source": [
    "##### Почти 90 % наблюдений теряем"
   ]
  },
  {
   "cell_type": "code",
   "execution_count": 30,
   "metadata": {},
   "outputs": [
    {
     "data": {
      "text/plain": [
       "((37529, 58), (37529, 1))"
      ]
     },
     "execution_count": 30,
     "metadata": {},
     "output_type": "execute_result"
    }
   ],
   "source": [
    "X_train_withiout_outliers.shape,y_train_withiout_outliers.shape"
   ]
  },
  {
   "cell_type": "code",
   "execution_count": 31,
   "metadata": {},
   "outputs": [],
   "source": [
    "from sklearn.preprocessing import Normalizer"
   ]
  },
  {
   "cell_type": "code",
   "execution_count": 32,
   "metadata": {},
   "outputs": [],
   "source": [
    "nm=Normalizer()\n",
    "X_train_norm = nm.fit_transform(X_train_withiout_outliers)\n",
    "X_test_norm=nm.transform(X_test.fillna(X_test.mean()))"
   ]
  },
  {
   "cell_type": "code",
   "execution_count": 33,
   "metadata": {},
   "outputs": [],
   "source": [
    "st = StandardScaler()\n",
    "X_train_st = st.fit_transform(X_train_withiout_outliers)\n",
    "X_test_st=st.transform(X_test.fillna(X_test.mean()))"
   ]
  },
  {
   "cell_type": "code",
   "execution_count": 34,
   "metadata": {},
   "outputs": [],
   "source": [
    "min_max= MinMaxScaler()\n",
    "X_train_minmax = min_max.fit_transform(X_train_withiout_outliers)\n",
    "#X_minmax=pd.DataFrame(X_minmax,columns=X_train_withiout_outliers.columns)\n",
    "X_test_minmax=min_max.transform(X_test.fillna(X_test.mean()))\n"
   ]
  },
  {
   "cell_type": "code",
   "execution_count": 35,
   "metadata": {},
   "outputs": [],
   "source": [
    "results=pd.DataFrame(columns=['model','mean_cv_train_score','test_score'])"
   ]
  },
  {
   "cell_type": "code",
   "execution_count": 36,
   "metadata": {},
   "outputs": [],
   "source": [
    "Xes=['norm','st','minmax']"
   ]
  },
  {
   "cell_type": "code",
   "execution_count": 37,
   "metadata": {},
   "outputs": [
    {
     "name": "stdout",
     "output_type": "stream",
     "text": [
      "CPU times: user 48.8 s, sys: 573 ms, total: 49.4 s\n",
      "Wall time: 37.7 s\n"
     ]
    }
   ],
   "source": [
    "%%time\n",
    "#Xes=['norm','st','minmax']\n",
    "for Xes in Xes:  \n",
    "    globals()['xgb_'+Xes] = xgboost.XGBClassifier(n_jobs=-1)\n",
    "    eval('xgb_'+Xes).fit(eval('X_train_'+Xes), y_train_withiout_outliers)\n",
    "    globals()['cv_'+Xes]=cross_val_score(xgboost.XGBClassifier(n_jobs=-1), eval('X_train_'+Xes), y_train_withiout_outliers, scoring='roc_auc',cv=10,n_jobs=-1)\n",
    "    results = results.append({'model' : 'cv_'+Xes , 'mean_cv_train_score' : eval('cv_'+Xes).mean(),'test_score':metrics.roc_auc_score(y_test, eval('xgb_'+Xes).predict_proba(eval('X_test_'+Xes))[:, 1])} , ignore_index=True)"
   ]
  },
  {
   "cell_type": "markdown",
   "metadata": {},
   "source": [
    "#### НУЛИ"
   ]
  },
  {
   "cell_type": "code",
   "execution_count": 39,
   "metadata": {},
   "outputs": [],
   "source": [
    "X_train=X_train_temp.copy()"
   ]
  },
  {
   "cell_type": "code",
   "execution_count": 40,
   "metadata": {},
   "outputs": [],
   "source": [
    "X_train=X_train.fillna(0)\n"
   ]
  },
  {
   "cell_type": "code",
   "execution_count": 41,
   "metadata": {},
   "outputs": [],
   "source": [
    "Q1 = X_train.quantile(0.25)\n",
    "Q3 = X_train.quantile(0.75)\n",
    "IQR = Q3 - Q1\n",
    "\n",
    "X_train_withiout_outliers  = X_train[~((X_train < (Q1-1.5 * IQR)) |(X_train > (Q3 + 1.5 * IQR))).any(axis=1)]\n",
    "y_train_withiout_outliers=y_train.loc[X_train_withiout_outliers.index]"
   ]
  },
  {
   "cell_type": "code",
   "execution_count": 42,
   "metadata": {},
   "outputs": [
    {
     "data": {
      "text/plain": [
       "((30723, 58), (30723, 1))"
      ]
     },
     "execution_count": 42,
     "metadata": {},
     "output_type": "execute_result"
    }
   ],
   "source": [
    "X_train_withiout_outliers.shape,y_train_withiout_outliers.shape"
   ]
  },
  {
   "cell_type": "code",
   "execution_count": 43,
   "metadata": {},
   "outputs": [],
   "source": [
    "from sklearn.preprocessing import Normalizer"
   ]
  },
  {
   "cell_type": "code",
   "execution_count": 44,
   "metadata": {},
   "outputs": [],
   "source": [
    "nm=Normalizer()\n",
    "X_train_norm = nm.fit_transform(X_train_withiout_outliers)\n",
    "X_test_norm=nm.transform(X_test.fillna(0))"
   ]
  },
  {
   "cell_type": "code",
   "execution_count": 45,
   "metadata": {},
   "outputs": [],
   "source": [
    "st = StandardScaler()\n",
    "X_train_st = st.fit_transform(X_train_withiout_outliers)\n",
    "X_test_st=st.transform(X_test.fillna(0))"
   ]
  },
  {
   "cell_type": "code",
   "execution_count": 46,
   "metadata": {},
   "outputs": [],
   "source": [
    "min_max= MinMaxScaler()\n",
    "X_train_minmax = min_max.fit_transform(X_train_withiout_outliers)\n",
    "\n",
    "X_test_minmax=min_max.transform(X_test.fillna(0))\n"
   ]
  },
  {
   "cell_type": "code",
   "execution_count": 47,
   "metadata": {},
   "outputs": [],
   "source": [
    "Xes=['norm','st','minmax']"
   ]
  },
  {
   "cell_type": "code",
   "execution_count": 48,
   "metadata": {},
   "outputs": [
    {
     "name": "stdout",
     "output_type": "stream",
     "text": [
      "CPU times: user 41.2 s, sys: 188 ms, total: 41.4 s\n",
      "Wall time: 15.5 s\n"
     ]
    }
   ],
   "source": [
    "%%time\n",
    "#Xes=['norm','st','minmax']\n",
    "for Xes in Xes:  \n",
    "    globals()['xgb_zero_'+Xes] = xgboost.XGBClassifier(n_jobs=-1)\n",
    "    eval('xgb_zero_'+Xes).fit(eval('X_train_'+Xes), y_train_withiout_outliers)  \n",
    "    \n",
    "    globals()['cv_zero_'+Xes]=cross_val_score(xgboost.XGBClassifier(n_jobs=-1), eval('X_train_'+Xes), y_train_withiout_outliers, scoring='roc_auc',cv=3,n_jobs=-1)\n",
    "    results = results.append({'model' : 'cv_zero_'+Xes , 'mean_cv_train_score' : eval('cv_zero_'+Xes).mean(),'test_score':metrics.roc_auc_score(y_test, eval('xgb_zero_'+Xes).predict_proba(eval('X_test_'+Xes))[:, 1])} , ignore_index=True)"
   ]
  },
  {
   "cell_type": "markdown",
   "metadata": {},
   "source": [
    "#### Медиана"
   ]
  },
  {
   "cell_type": "code",
   "execution_count": 50,
   "metadata": {},
   "outputs": [],
   "source": [
    "X_train=X_train_temp.copy()"
   ]
  },
  {
   "cell_type": "code",
   "execution_count": 51,
   "metadata": {},
   "outputs": [],
   "source": [
    "X_train=X_train.fillna(X_train.median())\n"
   ]
  },
  {
   "cell_type": "code",
   "execution_count": 52,
   "metadata": {},
   "outputs": [],
   "source": [
    "Q1 = X_train.quantile(0.25)\n",
    "Q3 = X_train.quantile(0.75)\n",
    "IQR = Q3 - Q1\n",
    "\n",
    "X_train_withiout_outliers  = X_train[~((X_train < (Q1-1.5 * IQR)) |(X_train > (Q3 + 1.5 * IQR))).any(axis=1)]\n",
    "y_train_withiout_outliers=y_train.loc[X_train_withiout_outliers.index]"
   ]
  },
  {
   "cell_type": "code",
   "execution_count": 53,
   "metadata": {},
   "outputs": [
    {
     "data": {
      "text/plain": [
       "((38919, 58), (38919, 1))"
      ]
     },
     "execution_count": 53,
     "metadata": {},
     "output_type": "execute_result"
    }
   ],
   "source": [
    "X_train_withiout_outliers.shape,y_train_withiout_outliers.shape"
   ]
  },
  {
   "cell_type": "code",
   "execution_count": 54,
   "metadata": {},
   "outputs": [],
   "source": [
    "from sklearn.preprocessing import Normalizer"
   ]
  },
  {
   "cell_type": "code",
   "execution_count": 55,
   "metadata": {},
   "outputs": [],
   "source": [
    "nm=Normalizer()\n",
    "X_train_norm = nm.fit_transform(X_train_withiout_outliers)\n",
    "X_test_norm=nm.transform(X_test.fillna(X_test.median()))"
   ]
  },
  {
   "cell_type": "code",
   "execution_count": 56,
   "metadata": {},
   "outputs": [],
   "source": [
    "st = StandardScaler()\n",
    "X_train_st = st.fit_transform(X_train_withiout_outliers)\n",
    "X_test_st=st.transform(X_test.fillna(X_test.median()))"
   ]
  },
  {
   "cell_type": "code",
   "execution_count": 57,
   "metadata": {},
   "outputs": [],
   "source": [
    "min_max= MinMaxScaler()\n",
    "X_train_minmax = min_max.fit_transform(X_train_withiout_outliers)\n",
    "#X_minmax=pd.DataFrame(X_minmax,columns=X_train_withiout_outliers.columns)\n",
    "X_test_minmax=min_max.transform(X_test.fillna(X_test.median()))\n"
   ]
  },
  {
   "cell_type": "code",
   "execution_count": 58,
   "metadata": {},
   "outputs": [],
   "source": [
    "Xes=['norm','st','minmax']"
   ]
  },
  {
   "cell_type": "code",
   "execution_count": 59,
   "metadata": {},
   "outputs": [
    {
     "name": "stdout",
     "output_type": "stream",
     "text": [
      "CPU times: user 50.9 s, sys: 156 ms, total: 51 s\n",
      "Wall time: 19.7 s\n"
     ]
    }
   ],
   "source": [
    "%%time\n",
    "#Xes=['norm','st','minmax']\n",
    "for Xes in Xes:  \n",
    "    globals()['xgb_median_'+Xes] = xgboost.XGBClassifier(n_jobs=-1)\n",
    "    eval('xgb_median_'+Xes).fit(eval('X_train_'+Xes), y_train_withiout_outliers)  \n",
    "    globals()['cv_median_'+Xes]=cross_val_score(xgboost.XGBClassifier(n_jobs=-1), eval('X_train_'+Xes), y_train_withiout_outliers, scoring='roc_auc',cv=3,n_jobs=-1)\n",
    "    results = results.append({'model' : 'cv_median_'+Xes , 'mean_cv_train_score' : eval('cv_median_'+Xes).mean(),'test_score':metrics.roc_auc_score(y_test, eval('xgb_median_'+Xes).predict_proba(eval('X_test_'+Xes))[:, 1])} , ignore_index=True)"
   ]
  },
  {
   "cell_type": "code",
   "execution_count": 61,
   "metadata": {},
   "outputs": [],
   "source": [
    "results_0_25_0_75=results"
   ]
  },
  {
   "cell_type": "code",
   "execution_count": 62,
   "metadata": {},
   "outputs": [
    {
     "data": {
      "text/html": [
       "<div>\n",
       "<style scoped>\n",
       "    .dataframe tbody tr th:only-of-type {\n",
       "        vertical-align: middle;\n",
       "    }\n",
       "\n",
       "    .dataframe tbody tr th {\n",
       "        vertical-align: top;\n",
       "    }\n",
       "\n",
       "    .dataframe thead th {\n",
       "        text-align: right;\n",
       "    }\n",
       "</style>\n",
       "<table border=\"1\" class=\"dataframe\">\n",
       "  <thead>\n",
       "    <tr style=\"text-align: right;\">\n",
       "      <th></th>\n",
       "      <th>model</th>\n",
       "      <th>mean_cv_train_score</th>\n",
       "      <th>test_score</th>\n",
       "    </tr>\n",
       "  </thead>\n",
       "  <tbody>\n",
       "    <tr>\n",
       "      <th>0</th>\n",
       "      <td>cv_norm</td>\n",
       "      <td>0.495434</td>\n",
       "      <td>0.502634</td>\n",
       "    </tr>\n",
       "    <tr>\n",
       "      <th>1</th>\n",
       "      <td>cv_st</td>\n",
       "      <td>0.738323</td>\n",
       "      <td>0.653470</td>\n",
       "    </tr>\n",
       "    <tr>\n",
       "      <th>2</th>\n",
       "      <td>cv_minmax</td>\n",
       "      <td>0.738436</td>\n",
       "      <td>0.653469</td>\n",
       "    </tr>\n",
       "    <tr>\n",
       "      <th>3</th>\n",
       "      <td>cv_zero_norm</td>\n",
       "      <td>0.497446</td>\n",
       "      <td>0.499834</td>\n",
       "    </tr>\n",
       "    <tr>\n",
       "      <th>4</th>\n",
       "      <td>cv_zero_st</td>\n",
       "      <td>0.711433</td>\n",
       "      <td>0.648620</td>\n",
       "    </tr>\n",
       "    <tr>\n",
       "      <th>5</th>\n",
       "      <td>cv_zero_minmax</td>\n",
       "      <td>0.711435</td>\n",
       "      <td>0.648620</td>\n",
       "    </tr>\n",
       "    <tr>\n",
       "      <th>6</th>\n",
       "      <td>cv_median_norm</td>\n",
       "      <td>0.496371</td>\n",
       "      <td>0.498590</td>\n",
       "    </tr>\n",
       "    <tr>\n",
       "      <th>7</th>\n",
       "      <td>cv_median_st</td>\n",
       "      <td>0.736271</td>\n",
       "      <td>0.652983</td>\n",
       "    </tr>\n",
       "    <tr>\n",
       "      <th>8</th>\n",
       "      <td>cv_median_minmax</td>\n",
       "      <td>0.735355</td>\n",
       "      <td>0.652982</td>\n",
       "    </tr>\n",
       "  </tbody>\n",
       "</table>\n",
       "</div>"
      ],
      "text/plain": [
       "              model  mean_cv_train_score  test_score\n",
       "0           cv_norm             0.495434    0.502634\n",
       "1             cv_st             0.738323    0.653470\n",
       "2         cv_minmax             0.738436    0.653469\n",
       "3      cv_zero_norm             0.497446    0.499834\n",
       "4        cv_zero_st             0.711433    0.648620\n",
       "5    cv_zero_minmax             0.711435    0.648620\n",
       "6    cv_median_norm             0.496371    0.498590\n",
       "7      cv_median_st             0.736271    0.652983\n",
       "8  cv_median_minmax             0.735355    0.652982"
      ]
     },
     "execution_count": 62,
     "metadata": {},
     "output_type": "execute_result"
    }
   ],
   "source": [
    "results_0_25_0_75"
   ]
  },
  {
   "cell_type": "markdown",
   "metadata": {},
   "source": [
    "### Не очень это хорошо, что мы выбрасаваем так много наблденеий, к тому же видно, что модель сильно переобучается\n",
    "#### Попробуем уменьшить порог отсечения выбросов"
   ]
  },
  {
   "cell_type": "markdown",
   "metadata": {},
   "source": [
    "#### Средние"
   ]
  },
  {
   "cell_type": "code",
   "execution_count": 63,
   "metadata": {},
   "outputs": [],
   "source": [
    "X_train=X_train_temp.copy()"
   ]
  },
  {
   "cell_type": "code",
   "execution_count": 64,
   "metadata": {},
   "outputs": [],
   "source": [
    "X_train=X_train.fillna(X_train.mean())\n"
   ]
  },
  {
   "cell_type": "code",
   "execution_count": 65,
   "metadata": {},
   "outputs": [],
   "source": [
    "Q1 = X_train.quantile(0.05)\n",
    "Q3 = X_train.quantile(0.95)\n",
    "IQR = Q3 - Q1\n",
    "\n",
    "X_train_withiout_outliers  = X_train[~((X_train < (Q1-1.5 * IQR)) |(X_train > (Q3 + 1.5 * IQR))).any(axis=1)]\n",
    "y_train_withiout_outliers=y_train.loc[X_train_withiout_outliers.index]"
   ]
  },
  {
   "cell_type": "code",
   "execution_count": 66,
   "metadata": {},
   "outputs": [
    {
     "data": {
      "text/plain": [
       "((345004, 58), (345004, 1))"
      ]
     },
     "execution_count": 66,
     "metadata": {},
     "output_type": "execute_result"
    }
   ],
   "source": [
    "X_train_withiout_outliers.shape,y_train_withiout_outliers.shape"
   ]
  },
  {
   "cell_type": "code",
   "execution_count": 67,
   "metadata": {},
   "outputs": [],
   "source": [
    "from sklearn.preprocessing import Normalizer"
   ]
  },
  {
   "cell_type": "code",
   "execution_count": 68,
   "metadata": {},
   "outputs": [],
   "source": [
    "nm=Normalizer()\n",
    "X_train_norm = nm.fit_transform(X_train_withiout_outliers)\n",
    "X_test_norm=nm.transform(X_test.fillna(X_test.mean()))"
   ]
  },
  {
   "cell_type": "code",
   "execution_count": 69,
   "metadata": {},
   "outputs": [],
   "source": [
    "st = StandardScaler()\n",
    "X_train_st = st.fit_transform(X_train_withiout_outliers)\n",
    "X_test_st=st.transform(X_test.fillna(X_test.mean()))"
   ]
  },
  {
   "cell_type": "code",
   "execution_count": 70,
   "metadata": {},
   "outputs": [],
   "source": [
    "min_max= MinMaxScaler()\n",
    "X_train_minmax = min_max.fit_transform(X_train_withiout_outliers)\n",
    "#X_minmax=pd.DataFrame(X_minmax,columns=X_train_withiout_outliers.columns)\n",
    "X_test_minmax=min_max.transform(X_test.fillna(X_test.mean()))\n"
   ]
  },
  {
   "cell_type": "code",
   "execution_count": 71,
   "metadata": {},
   "outputs": [],
   "source": [
    "results=pd.DataFrame(columns=['model','mean_cv_train_score','test_score'])"
   ]
  },
  {
   "cell_type": "code",
   "execution_count": 72,
   "metadata": {},
   "outputs": [],
   "source": [
    "Xes=['norm','st','minmax']"
   ]
  },
  {
   "cell_type": "code",
   "execution_count": 73,
   "metadata": {},
   "outputs": [
    {
     "name": "stdout",
     "output_type": "stream",
     "text": [
      "CPU times: user 6min 42s, sys: 1.32 s, total: 6min 43s\n",
      "Wall time: 11min 8s\n"
     ]
    }
   ],
   "source": [
    "%%time\n",
    "#Xes=['norm','st','minmax']\n",
    "for Xes in Xes:  \n",
    "    globals()['xgb_'+Xes] = xgboost.XGBClassifier(n_jobs=-1)\n",
    "    eval('xgb_'+Xes).fit(eval('X_train_'+Xes), y_train_withiout_outliers)\n",
    "    globals()['cv_'+Xes]=cross_val_score(xgboost.XGBClassifier(n_jobs=-1), eval('X_train_'+Xes), y_train_withiout_outliers, scoring='roc_auc',cv=10,n_jobs=-1)\n",
    "    results = results.append({'model' : 'cv_'+Xes , 'mean_cv_train_score' : eval('cv_'+Xes).mean(),'test_score':metrics.roc_auc_score(y_test, eval('xgb_'+Xes).predict_proba(eval('X_test_'+Xes))[:, 1])} , ignore_index=True)"
   ]
  },
  {
   "cell_type": "markdown",
   "metadata": {},
   "source": [
    "#### НУЛИ"
   ]
  },
  {
   "cell_type": "code",
   "execution_count": 75,
   "metadata": {},
   "outputs": [],
   "source": [
    "X_train=X_train_temp.copy()"
   ]
  },
  {
   "cell_type": "code",
   "execution_count": 77,
   "metadata": {},
   "outputs": [],
   "source": [
    "X_train=X_train.fillna(0)\n"
   ]
  },
  {
   "cell_type": "code",
   "execution_count": 78,
   "metadata": {},
   "outputs": [],
   "source": [
    "Q1 = X_train.quantile(0.05)\n",
    "Q3 = X_train.quantile(0.95)\n",
    "IQR = Q3 - Q1\n",
    "\n",
    "X_train_withiout_outliers  = X_train[~((X_train < (Q1-1.5 * IQR)) |(X_train > (Q3 + 1.5 * IQR))).any(axis=1)]\n",
    "y_train_withiout_outliers=y_train.loc[X_train_withiout_outliers.index]"
   ]
  },
  {
   "cell_type": "code",
   "execution_count": 79,
   "metadata": {},
   "outputs": [
    {
     "data": {
      "text/plain": [
       "((345063, 58), (345063, 1))"
      ]
     },
     "execution_count": 79,
     "metadata": {},
     "output_type": "execute_result"
    }
   ],
   "source": [
    "X_train_withiout_outliers.shape,y_train_withiout_outliers.shape"
   ]
  },
  {
   "cell_type": "code",
   "execution_count": 80,
   "metadata": {},
   "outputs": [],
   "source": [
    "from sklearn.preprocessing import Normalizer"
   ]
  },
  {
   "cell_type": "code",
   "execution_count": 81,
   "metadata": {},
   "outputs": [],
   "source": [
    "nm=Normalizer()\n",
    "X_train_norm = nm.fit_transform(X_train_withiout_outliers)\n",
    "X_test_norm=nm.transform(X_test.fillna(0))"
   ]
  },
  {
   "cell_type": "code",
   "execution_count": 82,
   "metadata": {},
   "outputs": [],
   "source": [
    "st = StandardScaler()\n",
    "X_train_st = st.fit_transform(X_train_withiout_outliers)\n",
    "X_test_st=st.transform(X_test.fillna(0))"
   ]
  },
  {
   "cell_type": "code",
   "execution_count": 83,
   "metadata": {},
   "outputs": [],
   "source": [
    "min_max= MinMaxScaler()\n",
    "X_train_minmax = min_max.fit_transform(X_train_withiout_outliers)\n",
    "\n",
    "X_test_minmax=min_max.transform(X_test.fillna(0))\n"
   ]
  },
  {
   "cell_type": "code",
   "execution_count": 84,
   "metadata": {},
   "outputs": [],
   "source": [
    "Xes=['norm','st','minmax']"
   ]
  },
  {
   "cell_type": "code",
   "execution_count": 85,
   "metadata": {},
   "outputs": [
    {
     "name": "stdout",
     "output_type": "stream",
     "text": [
      "CPU times: user 6min 40s, sys: 1.53 s, total: 6min 41s\n",
      "Wall time: 3min 17s\n"
     ]
    }
   ],
   "source": [
    "%%time\n",
    "#Xes=['norm','st','minmax']\n",
    "for Xes in Xes:  \n",
    "    globals()['xgb_zero_'+Xes] = xgboost.XGBClassifier(n_jobs=-1)\n",
    "    eval('xgb_zero_'+Xes).fit(eval('X_train_'+Xes), y_train_withiout_outliers)  \n",
    "    \n",
    "    globals()['cv_zero_'+Xes]=cross_val_score(xgboost.XGBClassifier(n_jobs=-1), eval('X_train_'+Xes), y_train_withiout_outliers, scoring='roc_auc',cv=3,n_jobs=-1)\n",
    "    results = results.append({'model' : 'cv_zero_'+Xes , 'mean_cv_train_score' : eval('cv_zero_'+Xes).mean(),'test_score':metrics.roc_auc_score(y_test, eval('xgb_zero_'+Xes).predict_proba(eval('X_test_'+Xes))[:, 1])} , ignore_index=True)"
   ]
  },
  {
   "cell_type": "markdown",
   "metadata": {},
   "source": [
    "#### Медиана"
   ]
  },
  {
   "cell_type": "code",
   "execution_count": 87,
   "metadata": {},
   "outputs": [],
   "source": [
    "X_train=X_train_temp.copy()\n"
   ]
  },
  {
   "cell_type": "code",
   "execution_count": 95,
   "metadata": {},
   "outputs": [],
   "source": [
    "X_train=X_train.fillna(X_train.median())\n"
   ]
  },
  {
   "cell_type": "code",
   "execution_count": 96,
   "metadata": {},
   "outputs": [],
   "source": [
    "Q1 = X_train.quantile(0.05)\n",
    "Q3 = X_train.quantile(0.95)\n",
    "IQR = Q3 - Q1\n",
    "\n",
    "X_train_withiout_outliers  = X_train[~((X_train < (Q1-1.5 * IQR)) |(X_train > (Q3 + 1.5 * IQR))).any(axis=1)]\n",
    "y_train_withiout_outliers=y_train.loc[X_train_withiout_outliers.index]"
   ]
  },
  {
   "cell_type": "code",
   "execution_count": 97,
   "metadata": {},
   "outputs": [
    {
     "data": {
      "text/plain": [
       "((345004, 58), (345004, 1))"
      ]
     },
     "execution_count": 97,
     "metadata": {},
     "output_type": "execute_result"
    }
   ],
   "source": [
    "X_train_withiout_outliers.shape,y_train_withiout_outliers.shape"
   ]
  },
  {
   "cell_type": "code",
   "execution_count": 99,
   "metadata": {},
   "outputs": [],
   "source": [
    "nm=Normalizer()\n",
    "X_train_norm = nm.fit_transform(X_train_withiout_outliers)\n",
    "X_test_norm=nm.transform(X_test.fillna(X_test.median()))"
   ]
  },
  {
   "cell_type": "code",
   "execution_count": 100,
   "metadata": {},
   "outputs": [],
   "source": [
    "st = StandardScaler()\n",
    "X_train_st = st.fit_transform(X_train_withiout_outliers)\n",
    "X_test_st=st.transform(X_test.fillna(X_test.median()))"
   ]
  },
  {
   "cell_type": "code",
   "execution_count": 101,
   "metadata": {},
   "outputs": [],
   "source": [
    "min_max= MinMaxScaler()\n",
    "X_train_minmax = min_max.fit_transform(X_train_withiout_outliers)\n",
    "#X_minmax=pd.DataFrame(X_minmax,columns=X_train_withiout_outliers.columns)\n",
    "X_test_minmax=min_max.transform(X_test.fillna(X_test.median()))\n"
   ]
  },
  {
   "cell_type": "code",
   "execution_count": 102,
   "metadata": {},
   "outputs": [],
   "source": [
    "Xes=['norm','st','minmax']"
   ]
  },
  {
   "cell_type": "code",
   "execution_count": 103,
   "metadata": {},
   "outputs": [
    {
     "name": "stdout",
     "output_type": "stream",
     "text": [
      "CPU times: user 6min 50s, sys: 1.37 s, total: 6min 51s\n",
      "Wall time: 3min 9s\n"
     ]
    }
   ],
   "source": [
    "%%time\n",
    "\n",
    "for Xes in Xes:  \n",
    "    globals()['xgb_median_'+Xes] = xgboost.XGBClassifier(n_jobs=-1)\n",
    "    eval('xgb_median_'+Xes).fit(eval('X_train_'+Xes), y_train_withiout_outliers)  \n",
    "    globals()['cv_median_'+Xes]=cross_val_score(xgboost.XGBClassifier(n_jobs=-1), eval('X_train_'+Xes), y_train_withiout_outliers, scoring='roc_auc',cv=3,n_jobs=-1)\n",
    "    results = results.append({'model' : 'cv_median_'+Xes , 'mean_cv_train_score' : eval('cv_median_'+Xes).mean(),'test_score':metrics.roc_auc_score(y_test, eval('xgb_median_'+Xes).predict_proba(eval('X_test_'+Xes))[:, 1])} , ignore_index=True)"
   ]
  },
  {
   "cell_type": "code",
   "execution_count": null,
   "metadata": {},
   "outputs": [],
   "source": []
  },
  {
   "cell_type": "code",
   "execution_count": 104,
   "metadata": {},
   "outputs": [
    {
     "data": {
      "text/html": [
       "<div>\n",
       "<style scoped>\n",
       "    .dataframe tbody tr th:only-of-type {\n",
       "        vertical-align: middle;\n",
       "    }\n",
       "\n",
       "    .dataframe tbody tr th {\n",
       "        vertical-align: top;\n",
       "    }\n",
       "\n",
       "    .dataframe thead th {\n",
       "        text-align: right;\n",
       "    }\n",
       "</style>\n",
       "<table border=\"1\" class=\"dataframe\">\n",
       "  <thead>\n",
       "    <tr style=\"text-align: right;\">\n",
       "      <th></th>\n",
       "      <th>model</th>\n",
       "      <th>mean_cv_train_score</th>\n",
       "      <th>test_score</th>\n",
       "    </tr>\n",
       "  </thead>\n",
       "  <tbody>\n",
       "    <tr>\n",
       "      <th>4</th>\n",
       "      <td>cv_zero_st</td>\n",
       "      <td>0.681069</td>\n",
       "      <td>0.680788</td>\n",
       "    </tr>\n",
       "    <tr>\n",
       "      <th>5</th>\n",
       "      <td>cv_zero_minmax</td>\n",
       "      <td>0.681071</td>\n",
       "      <td>0.680663</td>\n",
       "    </tr>\n",
       "    <tr>\n",
       "      <th>7</th>\n",
       "      <td>cv_median_st</td>\n",
       "      <td>0.684815</td>\n",
       "      <td>0.669941</td>\n",
       "    </tr>\n",
       "    <tr>\n",
       "      <th>8</th>\n",
       "      <td>cv_median_minmax</td>\n",
       "      <td>0.684804</td>\n",
       "      <td>0.669941</td>\n",
       "    </tr>\n",
       "    <tr>\n",
       "      <th>1</th>\n",
       "      <td>cv_st</td>\n",
       "      <td>0.682779</td>\n",
       "      <td>0.668768</td>\n",
       "    </tr>\n",
       "    <tr>\n",
       "      <th>2</th>\n",
       "      <td>cv_minmax</td>\n",
       "      <td>0.683327</td>\n",
       "      <td>0.668420</td>\n",
       "    </tr>\n",
       "    <tr>\n",
       "      <th>0</th>\n",
       "      <td>cv_norm</td>\n",
       "      <td>0.500071</td>\n",
       "      <td>0.500462</td>\n",
       "    </tr>\n",
       "    <tr>\n",
       "      <th>6</th>\n",
       "      <td>cv_median_norm</td>\n",
       "      <td>0.497966</td>\n",
       "      <td>0.499475</td>\n",
       "    </tr>\n",
       "    <tr>\n",
       "      <th>3</th>\n",
       "      <td>cv_zero_norm</td>\n",
       "      <td>0.497550</td>\n",
       "      <td>0.499308</td>\n",
       "    </tr>\n",
       "  </tbody>\n",
       "</table>\n",
       "</div>"
      ],
      "text/plain": [
       "              model  mean_cv_train_score  test_score\n",
       "4        cv_zero_st             0.681069    0.680788\n",
       "5    cv_zero_minmax             0.681071    0.680663\n",
       "7      cv_median_st             0.684815    0.669941\n",
       "8  cv_median_minmax             0.684804    0.669941\n",
       "1             cv_st             0.682779    0.668768\n",
       "2         cv_minmax             0.683327    0.668420\n",
       "0           cv_norm             0.500071    0.500462\n",
       "6    cv_median_norm             0.497966    0.499475\n",
       "3      cv_zero_norm             0.497550    0.499308"
      ]
     },
     "execution_count": 104,
     "metadata": {},
     "output_type": "execute_result"
    }
   ],
   "source": [
    "# результы для порога остчения 0.05_0.95\n",
    "results.sort_values('test_score',ascending=0)"
   ]
  },
  {
   "cell_type": "code",
   "execution_count": 105,
   "metadata": {},
   "outputs": [
    {
     "data": {
      "text/html": [
       "<div>\n",
       "<style scoped>\n",
       "    .dataframe tbody tr th:only-of-type {\n",
       "        vertical-align: middle;\n",
       "    }\n",
       "\n",
       "    .dataframe tbody tr th {\n",
       "        vertical-align: top;\n",
       "    }\n",
       "\n",
       "    .dataframe thead th {\n",
       "        text-align: right;\n",
       "    }\n",
       "</style>\n",
       "<table border=\"1\" class=\"dataframe\">\n",
       "  <thead>\n",
       "    <tr style=\"text-align: right;\">\n",
       "      <th></th>\n",
       "      <th>model</th>\n",
       "      <th>mean_cv_train_score</th>\n",
       "      <th>test_score</th>\n",
       "    </tr>\n",
       "  </thead>\n",
       "  <tbody>\n",
       "    <tr>\n",
       "      <th>1</th>\n",
       "      <td>cv_st</td>\n",
       "      <td>0.738323</td>\n",
       "      <td>0.653470</td>\n",
       "    </tr>\n",
       "    <tr>\n",
       "      <th>2</th>\n",
       "      <td>cv_minmax</td>\n",
       "      <td>0.738436</td>\n",
       "      <td>0.653469</td>\n",
       "    </tr>\n",
       "    <tr>\n",
       "      <th>7</th>\n",
       "      <td>cv_median_st</td>\n",
       "      <td>0.736271</td>\n",
       "      <td>0.652983</td>\n",
       "    </tr>\n",
       "    <tr>\n",
       "      <th>8</th>\n",
       "      <td>cv_median_minmax</td>\n",
       "      <td>0.735355</td>\n",
       "      <td>0.652982</td>\n",
       "    </tr>\n",
       "    <tr>\n",
       "      <th>4</th>\n",
       "      <td>cv_zero_st</td>\n",
       "      <td>0.711433</td>\n",
       "      <td>0.648620</td>\n",
       "    </tr>\n",
       "    <tr>\n",
       "      <th>5</th>\n",
       "      <td>cv_zero_minmax</td>\n",
       "      <td>0.711435</td>\n",
       "      <td>0.648620</td>\n",
       "    </tr>\n",
       "    <tr>\n",
       "      <th>0</th>\n",
       "      <td>cv_norm</td>\n",
       "      <td>0.495434</td>\n",
       "      <td>0.502634</td>\n",
       "    </tr>\n",
       "    <tr>\n",
       "      <th>3</th>\n",
       "      <td>cv_zero_norm</td>\n",
       "      <td>0.497446</td>\n",
       "      <td>0.499834</td>\n",
       "    </tr>\n",
       "    <tr>\n",
       "      <th>6</th>\n",
       "      <td>cv_median_norm</td>\n",
       "      <td>0.496371</td>\n",
       "      <td>0.498590</td>\n",
       "    </tr>\n",
       "  </tbody>\n",
       "</table>\n",
       "</div>"
      ],
      "text/plain": [
       "              model  mean_cv_train_score  test_score\n",
       "1             cv_st             0.738323    0.653470\n",
       "2         cv_minmax             0.738436    0.653469\n",
       "7      cv_median_st             0.736271    0.652983\n",
       "8  cv_median_minmax             0.735355    0.652982\n",
       "4        cv_zero_st             0.711433    0.648620\n",
       "5    cv_zero_minmax             0.711435    0.648620\n",
       "0           cv_norm             0.495434    0.502634\n",
       "3      cv_zero_norm             0.497446    0.499834\n",
       "6    cv_median_norm             0.496371    0.498590"
      ]
     },
     "execution_count": 105,
     "metadata": {},
     "output_type": "execute_result"
    }
   ],
   "source": [
    "# результы для порога остчения 0.25_0.95\n",
    "results_0_25_0_75.sort_values('test_score',ascending=0)"
   ]
  },
  {
   "cell_type": "markdown",
   "metadata": {},
   "source": [
    "* тестовые результаты улучшились\n",
    "* мы почти не переобучамся\n",
    "* выберем как стетегию замену Nan  нулями и стандартизацию"
   ]
  },
  {
   "cell_type": "code",
   "execution_count": null,
   "metadata": {},
   "outputs": [],
   "source": [
    "X_train=X_train_temp.copy()"
   ]
  },
  {
   "cell_type": "code",
   "execution_count": 106,
   "metadata": {},
   "outputs": [],
   "source": [
    "X_train=X_train.fillna(0)"
   ]
  },
  {
   "cell_type": "code",
   "execution_count": 145,
   "metadata": {},
   "outputs": [],
   "source": [
    "X_test=np.array(pd.DataFrame(X_test).fillna(0))"
   ]
  },
  {
   "cell_type": "code",
   "execution_count": 107,
   "metadata": {},
   "outputs": [],
   "source": [
    "Q1 = X_train.quantile(0.05)\n",
    "Q3 = X_train.quantile(0.95)\n",
    "IQR = Q3 - Q1\n",
    "\n",
    "X_train_withiout_outliers  = X_train[~((X_train < (Q1-1.5 * IQR)) |(X_train > (Q3 + 1.5 * IQR))).any(axis=1)]\n",
    "y_train_withiout_outliers=y_train.loc[X_train_withiout_outliers.index]"
   ]
  },
  {
   "cell_type": "code",
   "execution_count": 108,
   "metadata": {},
   "outputs": [
    {
     "data": {
      "text/plain": [
       "((345004, 58), (345004, 1))"
      ]
     },
     "execution_count": 108,
     "metadata": {},
     "output_type": "execute_result"
    }
   ],
   "source": [
    "X_train_withiout_outliers.shape,y_train_withiout_outliers.shape"
   ]
  },
  {
   "cell_type": "code",
   "execution_count": 109,
   "metadata": {},
   "outputs": [],
   "source": [
    "from sklearn.preprocessing import Normalizer"
   ]
  },
  {
   "cell_type": "code",
   "execution_count": 111,
   "metadata": {},
   "outputs": [],
   "source": [
    "st = StandardScaler()\n",
    "X_train = st.fit_transform(X_train_withiout_outliers)\n",
    "X_test=st.transform(X_test.fillna(0))"
   ]
  },
  {
   "cell_type": "code",
   "execution_count": 112,
   "metadata": {},
   "outputs": [],
   "source": [
    "y_train=y_train_withiout_outliers"
   ]
  },
  {
   "cell_type": "code",
   "execution_count": 114,
   "metadata": {},
   "outputs": [
    {
     "data": {
      "text/plain": [
       "((345004, 1), (345004, 58))"
      ]
     },
     "execution_count": 114,
     "metadata": {},
     "output_type": "execute_result"
    }
   ],
   "source": [
    "y_train.shape, X_train.shape"
   ]
  },
  {
   "cell_type": "markdown",
   "metadata": {},
   "source": [
    "### Попрбуем PCA"
   ]
  },
  {
   "cell_type": "code",
   "execution_count": 116,
   "metadata": {},
   "outputs": [],
   "source": []
  },
  {
   "cell_type": "code",
   "execution_count": 120,
   "metadata": {},
   "outputs": [
    {
     "data": {
      "text/plain": [
       "0.9494714511714248"
      ]
     },
     "execution_count": 120,
     "metadata": {},
     "output_type": "execute_result"
    }
   ],
   "source": [
    "components = 55\n",
    "pca = PCA(n_components=components).fit(X_train)\n",
    "#X_PCA_st=pd.DataFrame(PCA(n_components=components).fit_transform(X_st))\n",
    "sum(pca.explained_variance_ratio_)"
   ]
  },
  {
   "cell_type": "code",
   "execution_count": 118,
   "metadata": {},
   "outputs": [
    {
     "data": {
      "text/plain": [
       "0.8648706457182662"
      ]
     },
     "execution_count": 118,
     "metadata": {},
     "output_type": "execute_result"
    }
   ],
   "source": [
    "components = 50\n",
    "pca = PCA(n_components=components).fit(X_train)\n",
    "#X_PCA_st=pd.DataFrame(PCA(n_components=components).fit_transform(X_st))\n",
    "sum(pca.explained_variance_ratio_)"
   ]
  },
  {
   "cell_type": "code",
   "execution_count": 119,
   "metadata": {},
   "outputs": [
    {
     "data": {
      "text/plain": [
       "0.692657620551349"
      ]
     },
     "execution_count": 119,
     "metadata": {},
     "output_type": "execute_result"
    }
   ],
   "source": [
    "components = 40\n",
    "pca = PCA(n_components=components).fit(X_train)\n",
    "#X_PCA_st=pd.DataFrame(PCA(n_components=components).fit_transform(X_st))\n",
    "sum(pca.explained_variance_ratio_)"
   ]
  },
  {
   "cell_type": "code",
   "execution_count": 121,
   "metadata": {},
   "outputs": [
    {
     "data": {
      "text/plain": [
       "0.5199309904046481"
      ]
     },
     "execution_count": 121,
     "metadata": {},
     "output_type": "execute_result"
    }
   ],
   "source": [
    "components = 30\n",
    "pca = PCA(n_components=components).fit(X_train)\n",
    "#X_PCA_st=pd.DataFrame(PCA(n_components=components).fit_transform(X_st))\n",
    "sum(pca.explained_variance_ratio_)"
   ]
  },
  {
   "cell_type": "code",
   "execution_count": 124,
   "metadata": {},
   "outputs": [],
   "source": [
    "components = 50\n",
    "pca = PCA(n_components=components).fit(X_train)\n",
    "X_train_PCA_st=pca.fit_transform(X_train)\n",
    "X_test_PCA_st=pca.transform(X_test)"
   ]
  },
  {
   "cell_type": "code",
   "execution_count": 125,
   "metadata": {},
   "outputs": [
    {
     "name": "stdout",
     "output_type": "stream",
     "text": [
      "CPU times: user 6 µs, sys: 0 ns, total: 6 µs\n",
      "Wall time: 10.3 µs\n"
     ]
    }
   ],
   "source": [
    "%time\n",
    "Xes=['st']\n",
    "for Xes in Xes:  \n",
    "    globals()['xgb_PCA_'+Xes] = xgboost.XGBClassifier(n_jobs=-1)\n",
    "    eval('xgb_PCA_'+Xes).fit(eval('X_train_PCA_'+Xes), y_train)\n",
    "    globals()['cv_PCA_'+Xes]=cross_val_score(xgboost.XGBClassifier(n_jobs=-1), eval('X_train_PCA_'+Xes), y_train, scoring='roc_auc',cv=10,n_jobs=-1)\n",
    "    results = results.append({'model' : 'cv_PCA_'+Xes , 'mean_cv_train_score' : eval('cv_PCA_'+Xes).mean(),'test_score':metrics.roc_auc_score(y_test, eval('xgb_PCA_'+Xes).predict_proba(eval('X_test_PCA_'+Xes))[:, 1])} , ignore_index=True)"
   ]
  },
  {
   "cell_type": "code",
   "execution_count": 127,
   "metadata": {
    "scrolled": true
   },
   "outputs": [
    {
     "data": {
      "text/html": [
       "<div>\n",
       "<style scoped>\n",
       "    .dataframe tbody tr th:only-of-type {\n",
       "        vertical-align: middle;\n",
       "    }\n",
       "\n",
       "    .dataframe tbody tr th {\n",
       "        vertical-align: top;\n",
       "    }\n",
       "\n",
       "    .dataframe thead th {\n",
       "        text-align: right;\n",
       "    }\n",
       "</style>\n",
       "<table border=\"1\" class=\"dataframe\">\n",
       "  <thead>\n",
       "    <tr style=\"text-align: right;\">\n",
       "      <th></th>\n",
       "      <th>model</th>\n",
       "      <th>mean_cv_train_score</th>\n",
       "      <th>test_score</th>\n",
       "    </tr>\n",
       "  </thead>\n",
       "  <tbody>\n",
       "    <tr>\n",
       "      <th>4</th>\n",
       "      <td>cv_zero_st</td>\n",
       "      <td>0.681069</td>\n",
       "      <td>0.680788</td>\n",
       "    </tr>\n",
       "    <tr>\n",
       "      <th>5</th>\n",
       "      <td>cv_zero_minmax</td>\n",
       "      <td>0.681071</td>\n",
       "      <td>0.680663</td>\n",
       "    </tr>\n",
       "    <tr>\n",
       "      <th>7</th>\n",
       "      <td>cv_median_st</td>\n",
       "      <td>0.684815</td>\n",
       "      <td>0.669941</td>\n",
       "    </tr>\n",
       "    <tr>\n",
       "      <th>8</th>\n",
       "      <td>cv_median_minmax</td>\n",
       "      <td>0.684804</td>\n",
       "      <td>0.669941</td>\n",
       "    </tr>\n",
       "    <tr>\n",
       "      <th>1</th>\n",
       "      <td>cv_st</td>\n",
       "      <td>0.682779</td>\n",
       "      <td>0.668768</td>\n",
       "    </tr>\n",
       "    <tr>\n",
       "      <th>2</th>\n",
       "      <td>cv_minmax</td>\n",
       "      <td>0.683327</td>\n",
       "      <td>0.668420</td>\n",
       "    </tr>\n",
       "    <tr>\n",
       "      <th>9</th>\n",
       "      <td>cv_PCA_st</td>\n",
       "      <td>0.499766</td>\n",
       "      <td>0.500987</td>\n",
       "    </tr>\n",
       "    <tr>\n",
       "      <th>0</th>\n",
       "      <td>cv_norm</td>\n",
       "      <td>0.500071</td>\n",
       "      <td>0.500462</td>\n",
       "    </tr>\n",
       "    <tr>\n",
       "      <th>6</th>\n",
       "      <td>cv_median_norm</td>\n",
       "      <td>0.497966</td>\n",
       "      <td>0.499475</td>\n",
       "    </tr>\n",
       "    <tr>\n",
       "      <th>3</th>\n",
       "      <td>cv_zero_norm</td>\n",
       "      <td>0.497550</td>\n",
       "      <td>0.499308</td>\n",
       "    </tr>\n",
       "  </tbody>\n",
       "</table>\n",
       "</div>"
      ],
      "text/plain": [
       "              model  mean_cv_train_score  test_score\n",
       "4        cv_zero_st             0.681069    0.680788\n",
       "5    cv_zero_minmax             0.681071    0.680663\n",
       "7      cv_median_st             0.684815    0.669941\n",
       "8  cv_median_minmax             0.684804    0.669941\n",
       "1             cv_st             0.682779    0.668768\n",
       "2         cv_minmax             0.683327    0.668420\n",
       "9         cv_PCA_st             0.499766    0.500987\n",
       "0           cv_norm             0.500071    0.500462\n",
       "6    cv_median_norm             0.497966    0.499475\n",
       "3      cv_zero_norm             0.497550    0.499308"
      ]
     },
     "execution_count": 127,
     "metadata": {},
     "output_type": "execute_result"
    }
   ],
   "source": [
    "results.sort_values('test_score',ascending=0)"
   ]
  },
  {
   "cell_type": "markdown",
   "metadata": {},
   "source": [
    "* PCA сильно ухудщает реузльтаты, длаже при небольшом сокращении размерности пространсва"
   ]
  },
  {
   "cell_type": "markdown",
   "metadata": {},
   "source": [
    "### Feature Selction"
   ]
  },
  {
   "cell_type": "code",
   "execution_count": null,
   "metadata": {},
   "outputs": [],
   "source": [
    "\n",
    "%%time\n",
    "Xes=['st']\n",
    "for Xes in Xes:\n",
    "    globals()['cv_zero_st_rfecv_'+Xes] = RFECV(estimator=xgboost.XGBClassifier(n_jobs=-1) , step=1, cv=3,scoring='roc_auc',n_jobs=-1"
   ]
  },
  {
   "cell_type": "code",
   "execution_count": 130,
   "metadata": {},
   "outputs": [],
   "source": [
    "cv_zero_st_rfecv_st=RFECV(estimator=xgboost.XGBClassifier(n_jobs=-1) , step=1, cv=3,scoring='roc_auc',n_jobs=-1)"
   ]
  },
  {
   "cell_type": "code",
   "execution_count": 132,
   "metadata": {},
   "outputs": [
    {
     "data": {
      "text/plain": [
       "RFECV(cv=3,\n",
       "      estimator=XGBClassifier(base_score=0.5, booster='gbtree',\n",
       "                              colsample_bylevel=1, colsample_bynode=1,\n",
       "                              colsample_bytree=1, gamma=0, learning_rate=0.1,\n",
       "                              max_delta_step=0, max_depth=3, min_child_weight=1,\n",
       "                              missing=None, n_estimators=100, n_jobs=-1,\n",
       "                              nthread=None, objective='binary:logistic',\n",
       "                              random_state=0, reg_alpha=0, reg_lambda=1,\n",
       "                              scale_pos_weight=1, seed=None, silent=None,\n",
       "                              subsample=1, verbosity=1),\n",
       "      min_features_to_select=1, n_jobs=-1, scoring='roc_auc', step=1,\n",
       "      verbose=0)"
      ]
     },
     "execution_count": 132,
     "metadata": {},
     "output_type": "execute_result"
    }
   ],
   "source": [
    "cv_zero_st_rfecv_st.fit(X_train, y_train)"
   ]
  },
  {
   "cell_type": "code",
   "execution_count": 161,
   "metadata": {},
   "outputs": [
    {
     "data": {
      "text/plain": [
       "array([False, False, False, False, False, False, False, False, False,\n",
       "        True, False, False, False, False, False, False, False, False,\n",
       "       False, False, False, False, False, False, False, False, False,\n",
       "       False, False, False, False, False, False,  True, False, False,\n",
       "        True, False, False, False, False,  True, False, False, False,\n",
       "       False, False, False, False, False, False, False, False, False,\n",
       "       False, False, False, False])"
      ]
     },
     "execution_count": 161,
     "metadata": {},
     "output_type": "execute_result"
    }
   ],
   "source": [
    "#RFECV отобрал всего четыре признака\n",
    "cv_zero_st_rfecv_st.get_support()"
   ]
  },
  {
   "cell_type": "code",
   "execution_count": 158,
   "metadata": {},
   "outputs": [],
   "source": [
    " results = results.append({'model' : 'ccv_zero_st_rfecv_st' , 'mean_cv_train_score' : cv_zero_st_rfecv_st.grid_scores_.mean(),'test_score':metrics.roc_auc_score(y_test, cv_zero_st_rfecv_st.predict_proba(X_test)[:, 1])} , ignore_index=True)"
   ]
  },
  {
   "cell_type": "code",
   "execution_count": 159,
   "metadata": {},
   "outputs": [
    {
     "data": {
      "text/html": [
       "<div>\n",
       "<style scoped>\n",
       "    .dataframe tbody tr th:only-of-type {\n",
       "        vertical-align: middle;\n",
       "    }\n",
       "\n",
       "    .dataframe tbody tr th {\n",
       "        vertical-align: top;\n",
       "    }\n",
       "\n",
       "    .dataframe thead th {\n",
       "        text-align: right;\n",
       "    }\n",
       "</style>\n",
       "<table border=\"1\" class=\"dataframe\">\n",
       "  <thead>\n",
       "    <tr style=\"text-align: right;\">\n",
       "      <th></th>\n",
       "      <th>model</th>\n",
       "      <th>mean_cv_train_score</th>\n",
       "      <th>test_score</th>\n",
       "    </tr>\n",
       "  </thead>\n",
       "  <tbody>\n",
       "    <tr>\n",
       "      <th>10</th>\n",
       "      <td>ccv_zero_st_rfecv_st</td>\n",
       "      <td>0.684356</td>\n",
       "      <td>0.681125</td>\n",
       "    </tr>\n",
       "    <tr>\n",
       "      <th>4</th>\n",
       "      <td>cv_zero_st</td>\n",
       "      <td>0.681069</td>\n",
       "      <td>0.680788</td>\n",
       "    </tr>\n",
       "    <tr>\n",
       "      <th>5</th>\n",
       "      <td>cv_zero_minmax</td>\n",
       "      <td>0.681071</td>\n",
       "      <td>0.680663</td>\n",
       "    </tr>\n",
       "    <tr>\n",
       "      <th>7</th>\n",
       "      <td>cv_median_st</td>\n",
       "      <td>0.684815</td>\n",
       "      <td>0.669941</td>\n",
       "    </tr>\n",
       "    <tr>\n",
       "      <th>8</th>\n",
       "      <td>cv_median_minmax</td>\n",
       "      <td>0.684804</td>\n",
       "      <td>0.669941</td>\n",
       "    </tr>\n",
       "    <tr>\n",
       "      <th>1</th>\n",
       "      <td>cv_st</td>\n",
       "      <td>0.682779</td>\n",
       "      <td>0.668768</td>\n",
       "    </tr>\n",
       "    <tr>\n",
       "      <th>2</th>\n",
       "      <td>cv_minmax</td>\n",
       "      <td>0.683327</td>\n",
       "      <td>0.668420</td>\n",
       "    </tr>\n",
       "    <tr>\n",
       "      <th>9</th>\n",
       "      <td>cv_PCA_st</td>\n",
       "      <td>0.499766</td>\n",
       "      <td>0.500987</td>\n",
       "    </tr>\n",
       "    <tr>\n",
       "      <th>0</th>\n",
       "      <td>cv_norm</td>\n",
       "      <td>0.500071</td>\n",
       "      <td>0.500462</td>\n",
       "    </tr>\n",
       "    <tr>\n",
       "      <th>6</th>\n",
       "      <td>cv_median_norm</td>\n",
       "      <td>0.497966</td>\n",
       "      <td>0.499475</td>\n",
       "    </tr>\n",
       "    <tr>\n",
       "      <th>3</th>\n",
       "      <td>cv_zero_norm</td>\n",
       "      <td>0.497550</td>\n",
       "      <td>0.499308</td>\n",
       "    </tr>\n",
       "  </tbody>\n",
       "</table>\n",
       "</div>"
      ],
      "text/plain": [
       "                   model  mean_cv_train_score  test_score\n",
       "10  ccv_zero_st_rfecv_st             0.684356    0.681125\n",
       "4             cv_zero_st             0.681069    0.680788\n",
       "5         cv_zero_minmax             0.681071    0.680663\n",
       "7           cv_median_st             0.684815    0.669941\n",
       "8       cv_median_minmax             0.684804    0.669941\n",
       "1                  cv_st             0.682779    0.668768\n",
       "2              cv_minmax             0.683327    0.668420\n",
       "9              cv_PCA_st             0.499766    0.500987\n",
       "0                cv_norm             0.500071    0.500462\n",
       "6         cv_median_norm             0.497966    0.499475\n",
       "3           cv_zero_norm             0.497550    0.499308"
      ]
     },
     "execution_count": 159,
     "metadata": {},
     "output_type": "execute_result"
    }
   ],
   "source": [
    "results.sort_values('test_score',ascending=0)"
   ]
  },
  {
   "cell_type": "markdown",
   "metadata": {},
   "source": [
    "* однако с 4 призанками модель стала только лучше"
   ]
  },
  {
   "cell_type": "markdown",
   "metadata": {},
   "source": [
    "### Отберем эти 4 призака и обучим зоопарк моделей:"
   ]
  },
  {
   "cell_type": "code",
   "execution_count": 171,
   "metadata": {},
   "outputs": [],
   "source": [
    "X_train_selected_features=X_train[:,cv_zero_st_rfecv_st.get_support()]\n",
    "X_test_selected_features=X_test[:,cv_zero_st_rfecv_st.get_support()]"
   ]
  },
  {
   "cell_type": "markdown",
   "metadata": {},
   "source": [
    "#### Logistic Regression\n"
   ]
  },
  {
   "cell_type": "code",
   "execution_count": 175,
   "metadata": {},
   "outputs": [],
   "source": [
    "from sklearn.model_selection import RandomizedSearchCV\n",
    "from sklearn.model_selection import GridSearchCV\n",
    "from sklearn.linear_model import LogisticRegression"
   ]
  },
  {
   "cell_type": "code",
   "execution_count": 177,
   "metadata": {},
   "outputs": [],
   "source": [
    "lr_params = {\n",
    "    'penalty': ['l1', 'l2'],\n",
    "    'C': [0.001, 0.01, 0.1, 0.25, 0.5]\n",
    "}"
   ]
  },
  {
   "cell_type": "code",
   "execution_count": 185,
   "metadata": {},
   "outputs": [
    {
     "name": "stdout",
     "output_type": "stream",
     "text": [
      "CPU times: user 946 ms, sys: 2.48 s, total: 3.43 s\n",
      "Wall time: 2.51 s\n"
     ]
    },
    {
     "data": {
      "text/plain": [
       "GridSearchCV(cv=3, error_score=nan,\n",
       "             estimator=LogisticRegression(C=1.0, class_weight=None, dual=False,\n",
       "                                          fit_intercept=True,\n",
       "                                          intercept_scaling=1, l1_ratio=None,\n",
       "                                          max_iter=100, multi_class='auto',\n",
       "                                          n_jobs=None, penalty='l2',\n",
       "                                          random_state=None, solver='lbfgs',\n",
       "                                          tol=0.0001, verbose=0,\n",
       "                                          warm_start=False),\n",
       "             iid='deprecated', n_jobs=-1,\n",
       "             param_grid={'C': [0.001, 0.01, 0.1, 0.25, 0.5],\n",
       "                         'penalty': ['l1', 'l2']},\n",
       "             pre_dispatch='2*n_jobs', refit=True, return_train_score=False,\n",
       "             scoring='roc_auc', verbose=0)"
      ]
     },
     "execution_count": 185,
     "metadata": {},
     "output_type": "execute_result"
    }
   ],
   "source": [
    "%%time\n",
    "lr = LogisticRegression()\n",
    "grid_lr = GridSearchCV(lr, lr_params, scoring='roc_auc', cv=3,n_jobs=-1)\n",
    "grid_lr.fit(X_train_selected_features, y_train)"
   ]
  },
  {
   "cell_type": "code",
   "execution_count": 186,
   "metadata": {},
   "outputs": [
    {
     "name": "stdout",
     "output_type": "stream",
     "text": [
      "{'C': 0.25, 'penalty': 'l2'}\n",
      "0.49981273526622694\n",
      "LogisticRegression(C=0.25, class_weight=None, dual=False, fit_intercept=True,\n",
      "                   intercept_scaling=1, l1_ratio=None, max_iter=100,\n",
      "                   multi_class='auto', n_jobs=None, penalty='l2',\n",
      "                   random_state=None, solver='lbfgs', tol=0.0001, verbose=0,\n",
      "                   warm_start=False)\n"
     ]
    }
   ],
   "source": [
    "print(grid_lr.best_params_)\n",
    "print(grid_lr.best_score_)\n",
    "print(grid_lr.best_estimator_)\n"
   ]
  },
  {
   "cell_type": "markdown",
   "metadata": {},
   "source": [
    "#### KNN"
   ]
  },
  {
   "cell_type": "code",
   "execution_count": 191,
   "metadata": {},
   "outputs": [],
   "source": [
    "\n",
    "knn_params = {\n",
    "    'n_neighbors': [1, 3, 5, 7, 9],\n",
    "    'p': [1, 2]\n",
    "}"
   ]
  },
  {
   "cell_type": "code",
   "execution_count": 192,
   "metadata": {},
   "outputs": [
    {
     "name": "stdout",
     "output_type": "stream",
     "text": [
      "CPU times: user 1.47 s, sys: 696 ms, total: 2.16 s\n",
      "Wall time: 22.2 s\n"
     ]
    },
    {
     "data": {
      "text/plain": [
       "GridSearchCV(cv=3, error_score=nan,\n",
       "             estimator=KNeighborsClassifier(algorithm='auto', leaf_size=30,\n",
       "                                            metric='minkowski',\n",
       "                                            metric_params=None, n_jobs=None,\n",
       "                                            n_neighbors=5, p=2,\n",
       "                                            weights='uniform'),\n",
       "             iid='deprecated', n_jobs=-1,\n",
       "             param_grid={'n_neighbors': [1, 3, 5, 7, 9], 'p': [1, 2]},\n",
       "             pre_dispatch='2*n_jobs', refit=True, return_train_score=False,\n",
       "             scoring='roc_auc', verbose=0)"
      ]
     },
     "execution_count": 192,
     "metadata": {},
     "output_type": "execute_result"
    }
   ],
   "source": [
    "%%time\n",
    "knn = KNeighborsClassifier(metric='minkowski')\n",
    "grid_knn = GridSearchCV(knn, knn_params, scoring='roc_auc', cv=3,n_jobs=-1)\n",
    "grid_knn.fit(X_train_selected_features, y_train)"
   ]
  },
  {
   "cell_type": "code",
   "execution_count": 193,
   "metadata": {},
   "outputs": [
    {
     "name": "stdout",
     "output_type": "stream",
     "text": [
      "{'n_neighbors': 9, 'p': 1}\n",
      "0.7011541808903866\n",
      "KNeighborsClassifier(algorithm='auto', leaf_size=30, metric='minkowski',\n",
      "                     metric_params=None, n_jobs=None, n_neighbors=9, p=1,\n",
      "                     weights='uniform')\n"
     ]
    }
   ],
   "source": [
    "\n",
    "print(grid_knn.best_params_)\n",
    "print(grid_knn.best_score_)\n",
    "print(grid_knn.best_estimator_)"
   ]
  },
  {
   "cell_type": "markdown",
   "metadata": {},
   "source": [
    "#### Decision Tree"
   ]
  },
  {
   "cell_type": "code",
   "execution_count": 198,
   "metadata": {},
   "outputs": [],
   "source": [
    "tree_params = {\n",
    "    'criterion': ['gini', 'entropy'],\n",
    "    'max_depth': [1, 3, 5, 7, 9, None],\n",
    "    'min_samples_leaf': [1, 2, 4, 8, 16]\n",
    "}"
   ]
  },
  {
   "cell_type": "code",
   "execution_count": 199,
   "metadata": {},
   "outputs": [
    {
     "name": "stdout",
     "output_type": "stream",
     "text": [
      "CPU times: user 3.7 s, sys: 116 ms, total: 3.81 s\n",
      "Wall time: 30.6 s\n"
     ]
    },
    {
     "data": {
      "text/plain": [
       "GridSearchCV(cv=3, error_score=nan,\n",
       "             estimator=DecisionTreeClassifier(ccp_alpha=0.0, class_weight=None,\n",
       "                                              criterion='gini', max_depth=None,\n",
       "                                              max_features=None,\n",
       "                                              max_leaf_nodes=None,\n",
       "                                              min_impurity_decrease=0.0,\n",
       "                                              min_impurity_split=None,\n",
       "                                              min_samples_leaf=1,\n",
       "                                              min_samples_split=2,\n",
       "                                              min_weight_fraction_leaf=0.0,\n",
       "                                              presort='deprecated',\n",
       "                                              random_state=None,\n",
       "                                              splitter='best'),\n",
       "             iid='deprecated', n_jobs=-1,\n",
       "             param_grid={'criterion': ['gini', 'entropy'],\n",
       "                         'max_depth': [1, 3, 5, 7, 9, None],\n",
       "                         'min_samples_leaf': [1, 2, 4, 8, 16]},\n",
       "             pre_dispatch='2*n_jobs', refit=True, return_train_score=False,\n",
       "             scoring='roc_auc', verbose=0)"
      ]
     },
     "execution_count": 199,
     "metadata": {},
     "output_type": "execute_result"
    }
   ],
   "source": [
    "%%time\n",
    "tree = DecisionTreeClassifier()\n",
    "grid_tree = GridSearchCV(tree, tree_params, scoring='roc_auc', cv=3,n_jobs=-1)\n",
    "grid_tree.fit(X_train_selected_features, y_train)"
   ]
  },
  {
   "cell_type": "code",
   "execution_count": 200,
   "metadata": {},
   "outputs": [
    {
     "name": "stdout",
     "output_type": "stream",
     "text": [
      "{'criterion': 'gini', 'max_depth': None, 'min_samples_leaf': 16}\n",
      "0.7393272566340111\n",
      "DecisionTreeClassifier(ccp_alpha=0.0, class_weight=None, criterion='gini',\n",
      "                       max_depth=None, max_features=None, max_leaf_nodes=None,\n",
      "                       min_impurity_decrease=0.0, min_impurity_split=None,\n",
      "                       min_samples_leaf=16, min_samples_split=2,\n",
      "                       min_weight_fraction_leaf=0.0, presort='deprecated',\n",
      "                       random_state=None, splitter='best')\n"
     ]
    }
   ],
   "source": [
    "\n",
    "print(grid_tree.best_params_)\n",
    "print(grid_tree.best_score_)\n",
    "print(grid_tree.best_estimator_)"
   ]
  },
  {
   "cell_type": "markdown",
   "metadata": {},
   "source": [
    "#### RandomForest"
   ]
  },
  {
   "cell_type": "code",
   "execution_count": 202,
   "metadata": {},
   "outputs": [],
   "source": [
    "forest_params = {\n",
    "    'n_estimators': [5, 10, 20, 40],\n",
    "    'criterion': ['gini', 'entropy'],\n",
    "    'max_depth': [1, 3, 5, 7, 9, None],\n",
    "    'min_samples_leaf': [1, 2, 4, 8, 16]\n",
    "}"
   ]
  },
  {
   "cell_type": "code",
   "execution_count": 205,
   "metadata": {},
   "outputs": [
    {
     "name": "stdout",
     "output_type": "stream",
     "text": [
      "CPU times: user 1min 25s, sys: 1.19 s, total: 1min 26s\n",
      "Wall time: 15min 11s\n"
     ]
    },
    {
     "data": {
      "text/plain": [
       "GridSearchCV(cv=3, error_score=nan,\n",
       "             estimator=RandomForestClassifier(bootstrap=True, ccp_alpha=0.0,\n",
       "                                              class_weight=None,\n",
       "                                              criterion='gini', max_depth=None,\n",
       "                                              max_features='auto',\n",
       "                                              max_leaf_nodes=None,\n",
       "                                              max_samples=None,\n",
       "                                              min_impurity_decrease=0.0,\n",
       "                                              min_impurity_split=None,\n",
       "                                              min_samples_leaf=1,\n",
       "                                              min_samples_split=2,\n",
       "                                              min_weight_fraction_leaf=0.0,\n",
       "                                              n_estimators=100, n_jobs=None,\n",
       "                                              oob_score=False,\n",
       "                                              random_state=None, verbose=0,\n",
       "                                              warm_start=False),\n",
       "             iid='deprecated', n_jobs=-1,\n",
       "             param_grid={'criterion': ['gini', 'entropy'],\n",
       "                         'max_depth': [1, 3, 5, 7, 9, None],\n",
       "                         'min_samples_leaf': [1, 2, 4, 8, 16],\n",
       "                         'n_estimators': [5, 10, 20, 40]},\n",
       "             pre_dispatch='2*n_jobs', refit=True, return_train_score=False,\n",
       "             scoring='roc_auc', verbose=0)"
      ]
     },
     "execution_count": 205,
     "metadata": {},
     "output_type": "execute_result"
    }
   ],
   "source": [
    "%%time\n",
    "forest = RandomForestClassifier()\n",
    "grid_forest = GridSearchCV(forest, forest_params, scoring='roc_auc', cv=3,n_jobs=-1)\n",
    "grid_forest.fit(X_train_selected_features, y_train)\n"
   ]
  },
  {
   "cell_type": "code",
   "execution_count": 206,
   "metadata": {},
   "outputs": [
    {
     "name": "stdout",
     "output_type": "stream",
     "text": [
      "{'criterion': 'entropy', 'max_depth': None, 'min_samples_leaf': 8, 'n_estimators': 40}\n",
      "0.7710994245359976\n",
      "RandomForestClassifier(bootstrap=True, ccp_alpha=0.0, class_weight=None,\n",
      "                       criterion='entropy', max_depth=None, max_features='auto',\n",
      "                       max_leaf_nodes=None, max_samples=None,\n",
      "                       min_impurity_decrease=0.0, min_impurity_split=None,\n",
      "                       min_samples_leaf=8, min_samples_split=2,\n",
      "                       min_weight_fraction_leaf=0.0, n_estimators=40,\n",
      "                       n_jobs=None, oob_score=False, random_state=None,\n",
      "                       verbose=0, warm_start=False)\n"
     ]
    }
   ],
   "source": [
    "print(grid_forest.best_params_)\n",
    "print(grid_forest.best_score_)\n",
    "print(grid_forest.best_estimator_)"
   ]
  },
  {
   "cell_type": "markdown",
   "metadata": {},
   "source": [
    "#### GradientBoosting"
   ]
  },
  {
   "cell_type": "code",
   "execution_count": 207,
   "metadata": {},
   "outputs": [
    {
     "name": "stdout",
     "output_type": "stream",
     "text": [
      "{'n_estimators': 60, 'min_samples_leaf': 1, 'max_features': 1, 'max_depth': 25, 'learning_rate': 0.1}\n",
      "0.7533170315813784\n",
      "GradientBoostingClassifier(ccp_alpha=0.0, criterion='friedman_mse', init=None,\n",
      "                           learning_rate=0.1, loss='deviance', max_depth=25,\n",
      "                           max_features=1, max_leaf_nodes=None,\n",
      "                           min_impurity_decrease=0.0, min_impurity_split=None,\n",
      "                           min_samples_leaf=1, min_samples_split=2,\n",
      "                           min_weight_fraction_leaf=0.0, n_estimators=60,\n",
      "                           n_iter_no_change=None, presort='deprecated',\n",
      "                           random_state=None, subsample=1.0, tol=0.0001,\n",
      "                           validation_fraction=0.1, verbose=0,\n",
      "                           warm_start=False)\n",
      "CPU times: user 6min 55s, sys: 348 ms, total: 6min 55s\n",
      "Wall time: 17min 57s\n"
     ]
    }
   ],
   "source": [
    "\n",
    "%%time\n",
    "from sklearn.ensemble.gradient_boosting import GradientBoostingClassifier\n",
    "from sklearn.model_selection import RandomizedSearchCV\n",
    "gb_params = {\n",
    "          'n_estimators': [1,10,20,30,40,50,60,80,90],\n",
    "          'max_features': list(range(1, 16)),\n",
    "             'max_depth':[None,1,2,5,10,25,50],\n",
    "            'learning_rate': [0.1,0.3,0.5,0.7],\n",
    "               #'min_samples_split':[2,5,8,10,25,50],\n",
    "            'min_samples_leaf':list(range(1, 10)),\n",
    "}\n",
    "\n",
    "    \n",
    "\n",
    "grid_gb =  RandomizedSearchCV(GradientBoostingClassifier(),gb_params,scoring='roc_auc',\n",
    "                       cv=3,n_jobs=-1)\n",
    "grid_gb.fit(X_train_selected_features, y_train)\n",
    "print(grid_gb.best_params_)\n",
    "print(grid_gb.best_score_)\n",
    "print(grid_gb.best_estimator_)"
   ]
  },
  {
   "cell_type": "markdown",
   "metadata": {},
   "source": [
    "#### xgboost"
   ]
  },
  {
   "cell_type": "code",
   "execution_count": 208,
   "metadata": {},
   "outputs": [
    {
     "name": "stdout",
     "output_type": "stream",
     "text": [
      "Fitting 3 folds for each of 10 candidates, totalling 30 fits\n"
     ]
    },
    {
     "name": "stderr",
     "output_type": "stream",
     "text": [
      "[Parallel(n_jobs=-1)]: Using backend LokyBackend with 12 concurrent workers.\n",
      "[Parallel(n_jobs=-1)]: Done   1 tasks      | elapsed:    8.5s\n",
      "[Parallel(n_jobs=-1)]: Done  11 out of  30 | elapsed:   14.0s remaining:   24.2s\n",
      "[Parallel(n_jobs=-1)]: Done  15 out of  30 | elapsed:   18.3s remaining:   18.3s\n",
      "[Parallel(n_jobs=-1)]: Done  19 out of  30 | elapsed:   22.4s remaining:   12.9s\n",
      "[Parallel(n_jobs=-1)]: Done  23 out of  30 | elapsed:   38.1s remaining:   11.6s\n",
      "[Parallel(n_jobs=-1)]: Done  27 out of  30 | elapsed:   51.7s remaining:    5.7s\n",
      "[Parallel(n_jobs=-1)]: Done  30 out of  30 | elapsed:  1.3min finished\n"
     ]
    },
    {
     "name": "stdout",
     "output_type": "stream",
     "text": [
      "{'subsample': 1.0, 'reg_alpha': 0.01, 'n_estimators': 100, 'max_depth': 25, 'learning_rate': 0.01, 'colsample_bytree': 0.9}\n",
      "0.7425532519864668\n",
      "XGBClassifier(base_score=0.5, booster='gbtree', colsample_bylevel=1,\n",
      "              colsample_bynode=1, colsample_bytree=0.9, gamma=0,\n",
      "              learning_rate=0.01, max_delta_step=0, max_depth=25,\n",
      "              min_child_weight=1, missing=None, n_estimators=100, n_jobs=-1,\n",
      "              nthread=None, objective='binary:logistic', random_state=0,\n",
      "              reg_alpha=0.01, reg_lambda=1, scale_pos_weight=1, seed=None,\n",
      "              silent=None, subsample=1.0, verbosity=1)\n",
      "CPU times: user 4min 6s, sys: 1.26 s, total: 4min 7s\n",
      "Wall time: 1min 50s\n"
     ]
    }
   ],
   "source": [
    "%%time\n",
    "\n",
    "XGB_params = {\n",
    "           'max_depth': [2,3,4,5,6,7,8,25,50], # 5 is good but takes too long in kaggle env\n",
    "    'subsample': [0.4,0.5,0.6,0.7,0.8,0.9,1.0],\n",
    "    'colsample_bytree': [0.5,0.6,0.7,0.8,0.9,1],\n",
    "    'n_estimators': [10,30,40,50,80,100,350,500,1000],\n",
    "    'reg_alpha': [0,0.01, 0.02, 0.03, 0.04],\n",
    "    'learning_rate':[0.01, 0.05,0.1,0.2]\n",
    "}\n",
    "\n",
    "    \n",
    "\n",
    "grid_XGB =  RandomizedSearchCV(xgboost.XGBClassifier(n_jobs=-1),XGB_params,scoring='roc_auc',\n",
    "                       cv=3,n_jobs=-1, verbose=10)\n",
    "grid_XGB.fit(X_train_selected_features, y_train)\n",
    "print(grid_XGB.best_params_)\n",
    "print(grid_XGB.best_score_)\n",
    "print(grid_XGB.best_estimator_)"
   ]
  },
  {
   "cell_type": "markdown",
   "metadata": {},
   "source": [
    "### Посмотрим на  результаты на тестовой и  валидационной выборках ( раз параметры на кросс-валидации подбирали почти один смыcл они тут имеют)"
   ]
  },
  {
   "cell_type": "code",
   "execution_count": 209,
   "metadata": {},
   "outputs": [],
   "source": [
    "estimators = {\n",
    "    'regression': grid_lr,\n",
    "    'knn': grid_knn,\n",
    "    'tree': grid_tree,\n",
    "    'forest': grid_forest,\n",
    "    'gb': grid_gb,\n",
    "    \n",
    "    'XGB': grid_XGB,\n",
    "    \n",
    "}"
   ]
  },
  {
   "cell_type": "code",
   "execution_count": 226,
   "metadata": {},
   "outputs": [],
   "source": [
    "X_valid_=X_valid.fillna(0)"
   ]
  },
  {
   "cell_type": "code",
   "execution_count": 228,
   "metadata": {},
   "outputs": [],
   "source": [
    "X_valid_=st.transform(X_valid.fillna(0))"
   ]
  },
  {
   "cell_type": "code",
   "execution_count": 233,
   "metadata": {
    "scrolled": true
   },
   "outputs": [
    {
     "name": "stdout",
     "output_type": "stream",
     "text": [
      "regression  train CV roc_auc: 0.4998 Test roc_auc: 0.6933 Validation roc_auc: 0.6933\n",
      "knn  train CV roc_auc: 0.7012 Test roc_auc: 0.7271 Validation roc_auc: 0.7265\n",
      "tree  train CV roc_auc: 0.7393 Test roc_auc: 0.7226 Validation roc_auc: 0.7244\n",
      "forest  train CV roc_auc: 0.7711 Test roc_auc: 0.7667 Validation roc_auc: 0.7679\n",
      "gb  train CV roc_auc: 0.7533 Test roc_auc: 0.7473 Validation roc_auc: 0.7474\n",
      "XGB  train CV roc_auc: 0.7426 Test roc_auc: 0.7424 Validation roc_auc: 0.7428\n"
     ]
    }
   ],
   "source": [
    "for k in estimators:\n",
    "    v = estimators[k]\n",
    "    print(k, \" train CV roc_auc:\", round(v.best_score_,4),\n",
    "          \"Test roc_auc:\", round(v.best_estimator_.score(X_test_selected_features, y_test),4),\n",
    "           \"Validation roc_auc:\",round(v.best_estimator_.score(X_valid_[:,cv_zero_st_rfecv_st.get_support()], y_valid),4))\n"
   ]
  },
  {
   "cell_type": "markdown",
   "metadata": {},
   "source": [
    "* Лучшеи результы показал случайны лес"
   ]
  },
  {
   "cell_type": "markdown",
   "metadata": {},
   "source": [
    "### Зафитим случаный RandomForest и сохраним предсказанные вероятности"
   ]
  },
  {
   "cell_type": "code",
   "execution_count": 238,
   "metadata": {},
   "outputs": [],
   "source": [
    "X_test_final=st.transform(test_df.fillna(0))[:,cv_zero_st_rfecv_st.get_support()]"
   ]
  },
  {
   "cell_type": "code",
   "execution_count": 242,
   "metadata": {},
   "outputs": [],
   "source": [
    "y_test_final=grid_forest.best_estimator_.predict_proba(X_test_final)[:, 1]"
   ]
  },
  {
   "cell_type": "code",
   "execution_count": 249,
   "metadata": {},
   "outputs": [],
   "source": [
    "pd.DataFrame(y_test_final, columns=['y_train']).to_csv('out.csv',index=False)"
   ]
  },
  {
   "cell_type": "code",
   "execution_count": 250,
   "metadata": {},
   "outputs": [
    {
     "data": {
      "text/html": [
       "<div>\n",
       "<style scoped>\n",
       "    .dataframe tbody tr th:only-of-type {\n",
       "        vertical-align: middle;\n",
       "    }\n",
       "\n",
       "    .dataframe tbody tr th {\n",
       "        vertical-align: top;\n",
       "    }\n",
       "\n",
       "    .dataframe thead th {\n",
       "        text-align: right;\n",
       "    }\n",
       "</style>\n",
       "<table border=\"1\" class=\"dataframe\">\n",
       "  <thead>\n",
       "    <tr style=\"text-align: right;\">\n",
       "      <th></th>\n",
       "      <th>y_train</th>\n",
       "    </tr>\n",
       "  </thead>\n",
       "  <tbody>\n",
       "    <tr>\n",
       "      <th>0</th>\n",
       "      <td>0.307800</td>\n",
       "    </tr>\n",
       "    <tr>\n",
       "      <th>1</th>\n",
       "      <td>0.077642</td>\n",
       "    </tr>\n",
       "    <tr>\n",
       "      <th>2</th>\n",
       "      <td>0.213803</td>\n",
       "    </tr>\n",
       "    <tr>\n",
       "      <th>3</th>\n",
       "      <td>0.141888</td>\n",
       "    </tr>\n",
       "    <tr>\n",
       "      <th>4</th>\n",
       "      <td>0.364137</td>\n",
       "    </tr>\n",
       "    <tr>\n",
       "      <th>...</th>\n",
       "      <td>...</td>\n",
       "    </tr>\n",
       "    <tr>\n",
       "      <th>179995</th>\n",
       "      <td>0.012735</td>\n",
       "    </tr>\n",
       "    <tr>\n",
       "      <th>179996</th>\n",
       "      <td>0.709221</td>\n",
       "    </tr>\n",
       "    <tr>\n",
       "      <th>179997</th>\n",
       "      <td>0.401034</td>\n",
       "    </tr>\n",
       "    <tr>\n",
       "      <th>179998</th>\n",
       "      <td>0.256535</td>\n",
       "    </tr>\n",
       "    <tr>\n",
       "      <th>179999</th>\n",
       "      <td>0.214242</td>\n",
       "    </tr>\n",
       "  </tbody>\n",
       "</table>\n",
       "<p>180000 rows × 1 columns</p>\n",
       "</div>"
      ],
      "text/plain": [
       "         y_train\n",
       "0       0.307800\n",
       "1       0.077642\n",
       "2       0.213803\n",
       "3       0.141888\n",
       "4       0.364137\n",
       "...          ...\n",
       "179995  0.012735\n",
       "179996  0.709221\n",
       "179997  0.401034\n",
       "179998  0.256535\n",
       "179999  0.214242\n",
       "\n",
       "[180000 rows x 1 columns]"
      ]
     },
     "execution_count": 250,
     "metadata": {},
     "output_type": "execute_result"
    }
   ],
   "source": [
    "pd.read_csv('out.csv')"
   ]
  },
  {
   "cell_type": "code",
   "execution_count": 254,
   "metadata": {},
   "outputs": [
    {
     "name": "stdout",
     "output_type": "stream",
     "text": [
      "total 1,6G\r\n",
      "drwxr-xr-x  3 gavril gavril 4,0K мар 16 01:42  .\r\n",
      "drwxr-xr-x 26 gavril gavril  36K мар 14 22:15  ..\r\n",
      "drwxr-xr-x  2 gavril gavril 4,0K мар 15 17:09  .ipynb_checkpoints\r\n",
      "-rw-r--r--  1 gavril gavril   74 мар 12 11:25 '.~lock.Тестовое задание.docx#'\r\n",
      "-rw-r--r--  1 gavril gavril 3,4M мар 16 01:41  out.csv\r\n",
      "-rw-r--r--  1 gavril gavril 111M дек 12  2018  test.csv\r\n",
      "-rw-r--r--  1 gavril gavril  80M мар 14 20:25  test_df\r\n",
      "-rw-r--r--  1 gavril gavril 444M дек 12  2018  train.csv\r\n",
      "-rw-r--r--  1 gavril gavril 319M мар 14 20:25  train_df\r\n",
      "-rw-r--r--  1 gavril gavril 319M мар 14 20:34  train_df_mean\r\n",
      "-rw-r--r--  1 gavril gavril 674K мар 15 01:43  Untitled1.ipynb\r\n",
      "-rw-r--r--  1 gavril gavril 109K мар 15 16:29  Untitled2.ipynb\r\n",
      "-rw-r--r--  1 gavril gavril  85K мар 15 17:06  Untitled3.ipynb\r\n",
      "-rw-r--r--  1 gavril gavril 190K мар 16 01:42  Untitled4.ipynb\r\n",
      "-rw-r--r--  1 gavril gavril 453K мар 14 17:32  Untitled.ipynb\r\n",
      "-rw-r--r--  1 gavril gavril 319M мар 15 01:50  X_train_mean\r\n",
      "-rw-r--r--  1 gavril gavril 2,1M дек 12  2018  y_train.csv\r\n",
      "-rw-r--r--  1 gavril gavril  16K фев  5  2019 'Тестовое задание.docx'\r\n"
     ]
    }
   ],
   "source": [
    "!ls -lah"
   ]
  },
  {
   "cell_type": "code",
   "execution_count": null,
   "metadata": {},
   "outputs": [],
   "source": []
  }
 ],
 "metadata": {
  "kernelspec": {
   "display_name": "Python 3",
   "language": "python",
   "name": "python3"
  },
  "language_info": {
   "codemirror_mode": {
    "name": "ipython",
    "version": 3
   },
   "file_extension": ".py",
   "mimetype": "text/x-python",
   "name": "python",
   "nbconvert_exporter": "python",
   "pygments_lexer": "ipython3",
   "version": "3.6.9"
  }
 },
 "nbformat": 4,
 "nbformat_minor": 2
}
